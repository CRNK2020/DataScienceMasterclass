{
 "cells": [
  {
   "cell_type": "code",
   "execution_count": 2,
   "id": "5a60ecf4",
   "metadata": {},
   "outputs": [],
   "source": [
    "# model = Equation (coeff, intercept)"
   ]
  },
  {
   "cell_type": "code",
   "execution_count": null,
   "id": "59337e39",
   "metadata": {},
   "outputs": [],
   "source": [
    "# save model\n",
    "# portable ship\n",
    "# load model\n",
    "# predict"
   ]
  },
  {
   "cell_type": "code",
   "execution_count": null,
   "id": "fedeb521",
   "metadata": {},
   "outputs": [],
   "source": [
    "train \n",
    "test\n",
    "\n",
    "Hackathon\n",
    "train+test -> Preprocessing (Hackathon)\n",
    "\n",
    "train - flight price - carrier - indigo, airindia, jet\n",
    "\n",
    "testflight price - carrier - indigo, airindia, jet, vistara\n",
    "\n",
    "\n",
    "combined and onehot -> no problem in forseen\n",
    "\n",
    "missing value -> imputation -> mean -> train+test\n",
    "\n",
    "\n",
    "Realworld\n",
    "Train - Preprocessing\n",
    "\n",
    "\n",
    "\n",
    "Test - We don't have - Preprocess -> predict\n",
    "\n",
    "\n",
    "Extra Burden on the devepoler to repeat the step of preprocessing \n",
    "\n",
    "Ship the processing code with the model\n",
    "\n",
    "\n",
    "\n",
    "train - flight price - carrier - indigo, airindia, jet\n",
    "\n",
    "test - flight price - carrier - indigo, airindia, jet, vistara\n",
    "\n",
    "\n",
    "separatly did the onehot -> problem \n",
    "\n",
    "\n",
    "missing value -> imputation -> mean -> train\n",
    "\n"
   ]
  },
  {
   "cell_type": "raw",
   "id": "eec9086b",
   "metadata": {},
   "source": [
    "preprocessing separately\n",
    "model separately\n",
    "\n",
    "\n",
    "Package preprocessing step + model -> one oject => Pipeline\n"
   ]
  },
  {
   "cell_type": "code",
   "execution_count": 89,
   "id": "7e658d1f",
   "metadata": {},
   "outputs": [],
   "source": [
    "import pandas as pd\n",
    "import numpy as np\n",
    "\n",
    "from sklearn.impute import SimpleImputer\n",
    "from sklearn.preprocessing import OneHotEncoder\n",
    "from sklearn.preprocessing import MinMaxScaler\n",
    "\n",
    "\n",
    "from sklearn.linear_model import LinearRegression\n",
    "\n",
    "import joblib"
   ]
  },
  {
   "cell_type": "code",
   "execution_count": 127,
   "id": "9902cc88",
   "metadata": {},
   "outputs": [],
   "source": [
    "data = pd.DataFrame(\n",
    "{\n",
    "    'name':['Maruti','honda','maruti','toyOta','hondA','toyota'],\n",
    "    'fuel_type':['petrol','diesel','petrol','diesel','petrol','diesel'],\n",
    "    'km_driven' :[2000,4000,100,6344,1234,np.NaN],\n",
    "    'price' :[200000,400000,424232,800000,500000,900000]\n",
    "    \n",
    "}\n",
    ")\n",
    " "
   ]
  },
  {
   "cell_type": "code",
   "execution_count": 128,
   "id": "3ce660ce",
   "metadata": {},
   "outputs": [
    {
     "data": {
      "text/html": [
       "<div>\n",
       "<style scoped>\n",
       "    .dataframe tbody tr th:only-of-type {\n",
       "        vertical-align: middle;\n",
       "    }\n",
       "\n",
       "    .dataframe tbody tr th {\n",
       "        vertical-align: top;\n",
       "    }\n",
       "\n",
       "    .dataframe thead th {\n",
       "        text-align: right;\n",
       "    }\n",
       "</style>\n",
       "<table border=\"1\" class=\"dataframe\">\n",
       "  <thead>\n",
       "    <tr style=\"text-align: right;\">\n",
       "      <th></th>\n",
       "      <th>name</th>\n",
       "      <th>fuel_type</th>\n",
       "      <th>km_driven</th>\n",
       "      <th>price</th>\n",
       "    </tr>\n",
       "  </thead>\n",
       "  <tbody>\n",
       "    <tr>\n",
       "      <th>0</th>\n",
       "      <td>Maruti</td>\n",
       "      <td>petrol</td>\n",
       "      <td>2000.0</td>\n",
       "      <td>200000</td>\n",
       "    </tr>\n",
       "    <tr>\n",
       "      <th>1</th>\n",
       "      <td>honda</td>\n",
       "      <td>diesel</td>\n",
       "      <td>4000.0</td>\n",
       "      <td>400000</td>\n",
       "    </tr>\n",
       "    <tr>\n",
       "      <th>2</th>\n",
       "      <td>maruti</td>\n",
       "      <td>petrol</td>\n",
       "      <td>100.0</td>\n",
       "      <td>424232</td>\n",
       "    </tr>\n",
       "    <tr>\n",
       "      <th>3</th>\n",
       "      <td>toyOta</td>\n",
       "      <td>diesel</td>\n",
       "      <td>6344.0</td>\n",
       "      <td>800000</td>\n",
       "    </tr>\n",
       "    <tr>\n",
       "      <th>4</th>\n",
       "      <td>hondA</td>\n",
       "      <td>petrol</td>\n",
       "      <td>1234.0</td>\n",
       "      <td>500000</td>\n",
       "    </tr>\n",
       "    <tr>\n",
       "      <th>5</th>\n",
       "      <td>toyota</td>\n",
       "      <td>diesel</td>\n",
       "      <td>NaN</td>\n",
       "      <td>900000</td>\n",
       "    </tr>\n",
       "  </tbody>\n",
       "</table>\n",
       "</div>"
      ],
      "text/plain": [
       "     name fuel_type  km_driven   price\n",
       "0  Maruti    petrol     2000.0  200000\n",
       "1   honda    diesel     4000.0  400000\n",
       "2  maruti    petrol      100.0  424232\n",
       "3  toyOta    diesel     6344.0  800000\n",
       "4   hondA    petrol     1234.0  500000\n",
       "5  toyota    diesel        NaN  900000"
      ]
     },
     "execution_count": 128,
     "metadata": {},
     "output_type": "execute_result"
    }
   ],
   "source": [
    "data"
   ]
  },
  {
   "cell_type": "code",
   "execution_count": 129,
   "id": "fe83b99e",
   "metadata": {},
   "outputs": [
    {
     "data": {
      "text/plain": [
       "array(['Maruti', 'honda', 'maruti', 'toyOta', 'hondA', 'toyota'],\n",
       "      dtype=object)"
      ]
     },
     "execution_count": 129,
     "metadata": {},
     "output_type": "execute_result"
    }
   ],
   "source": [
    "data['name'].unique()"
   ]
  },
  {
   "cell_type": "code",
   "execution_count": null,
   "id": "8e941b78",
   "metadata": {},
   "outputs": [],
   "source": []
  },
  {
   "cell_type": "code",
   "execution_count": 98,
   "id": "808abdd2",
   "metadata": {},
   "outputs": [],
   "source": [
    "from sklearn.pipeline import Pipeline\n",
    "from sklearn.compose import ColumnTransformer"
   ]
  },
  {
   "cell_type": "code",
   "execution_count": 132,
   "id": "e0f31559",
   "metadata": {},
   "outputs": [
    {
     "data": {
      "text/plain": [
       "0    maruti\n",
       "1     honda\n",
       "2    maruti\n",
       "3    toyota\n",
       "4     honda\n",
       "5    toyota\n",
       "Name: name, dtype: object"
      ]
     },
     "execution_count": 132,
     "metadata": {},
     "output_type": "execute_result"
    }
   ],
   "source": [
    "data['name'].apply(lambda x: x.lower())"
   ]
  },
  {
   "cell_type": "code",
   "execution_count": 186,
   "id": "c0feb975",
   "metadata": {},
   "outputs": [],
   "source": [
    "class DataframeFunctionTransformer():\n",
    "    def __init__(self, func):\n",
    "        self.func = func\n",
    "\n",
    "    def transform(self, df, **transform_params):\n",
    "        return self.func(df)\n",
    "\n",
    "    def fit(self, X, y=None, **fit_params):\n",
    "        return self\n",
    "    "
   ]
  },
  {
   "cell_type": "code",
   "execution_count": 187,
   "id": "f71296ab",
   "metadata": {},
   "outputs": [],
   "source": [
    "def preprocess_df(df):\n",
    "    df['name'] = df['name'].apply(lambda x: x.lower())\n",
    "    df['fuel_type'] = df['fuel_type'].apply(lambda x: x.lower())\n",
    "    return df\n",
    "    \n",
    "    "
   ]
  },
  {
   "cell_type": "code",
   "execution_count": 188,
   "id": "61dc3e6c",
   "metadata": {},
   "outputs": [],
   "source": [
    "initial_pipeline = Pipeline([\n",
    "    ('pre_preprocess', DataframeFunctionTransformer(preprocess_df))\n",
    "])"
   ]
  },
  {
   "cell_type": "code",
   "execution_count": 189,
   "id": "0d9d3888",
   "metadata": {},
   "outputs": [
    {
     "data": {
      "text/html": [
       "<div>\n",
       "<style scoped>\n",
       "    .dataframe tbody tr th:only-of-type {\n",
       "        vertical-align: middle;\n",
       "    }\n",
       "\n",
       "    .dataframe tbody tr th {\n",
       "        vertical-align: top;\n",
       "    }\n",
       "\n",
       "    .dataframe thead th {\n",
       "        text-align: right;\n",
       "    }\n",
       "</style>\n",
       "<table border=\"1\" class=\"dataframe\">\n",
       "  <thead>\n",
       "    <tr style=\"text-align: right;\">\n",
       "      <th></th>\n",
       "      <th>name</th>\n",
       "      <th>fuel_type</th>\n",
       "      <th>km_driven</th>\n",
       "      <th>price</th>\n",
       "    </tr>\n",
       "  </thead>\n",
       "  <tbody>\n",
       "    <tr>\n",
       "      <th>0</th>\n",
       "      <td>maruti</td>\n",
       "      <td>petrol</td>\n",
       "      <td>2000.0</td>\n",
       "      <td>200000</td>\n",
       "    </tr>\n",
       "    <tr>\n",
       "      <th>1</th>\n",
       "      <td>honda</td>\n",
       "      <td>diesel</td>\n",
       "      <td>4000.0</td>\n",
       "      <td>400000</td>\n",
       "    </tr>\n",
       "    <tr>\n",
       "      <th>2</th>\n",
       "      <td>maruti</td>\n",
       "      <td>petrol</td>\n",
       "      <td>100.0</td>\n",
       "      <td>424232</td>\n",
       "    </tr>\n",
       "    <tr>\n",
       "      <th>3</th>\n",
       "      <td>toyota</td>\n",
       "      <td>diesel</td>\n",
       "      <td>6344.0</td>\n",
       "      <td>800000</td>\n",
       "    </tr>\n",
       "    <tr>\n",
       "      <th>4</th>\n",
       "      <td>honda</td>\n",
       "      <td>petrol</td>\n",
       "      <td>1234.0</td>\n",
       "      <td>500000</td>\n",
       "    </tr>\n",
       "    <tr>\n",
       "      <th>5</th>\n",
       "      <td>toyota</td>\n",
       "      <td>diesel</td>\n",
       "      <td>NaN</td>\n",
       "      <td>900000</td>\n",
       "    </tr>\n",
       "  </tbody>\n",
       "</table>\n",
       "</div>"
      ],
      "text/plain": [
       "     name fuel_type  km_driven   price\n",
       "0  maruti    petrol     2000.0  200000\n",
       "1   honda    diesel     4000.0  400000\n",
       "2  maruti    petrol      100.0  424232\n",
       "3  toyota    diesel     6344.0  800000\n",
       "4   honda    petrol     1234.0  500000\n",
       "5  toyota    diesel        NaN  900000"
      ]
     },
     "execution_count": 189,
     "metadata": {},
     "output_type": "execute_result"
    }
   ],
   "source": [
    "initial_pipeline.transform(data)"
   ]
  },
  {
   "cell_type": "code",
   "execution_count": 197,
   "id": "11d2195c",
   "metadata": {},
   "outputs": [
    {
     "ename": "TypeError",
     "evalue": "'Pipeline' object is not callable",
     "output_type": "error",
     "traceback": [
      "\u001b[0;31m---------------------------------------------------------------------------\u001b[0m",
      "\u001b[0;31mTypeError\u001b[0m                                 Traceback (most recent call last)",
      "\u001b[0;32m/var/folders/cv/kmsppstx0d9281mtbqrrgl6c0000gn/T/ipykernel_18852/3448433583.py\u001b[0m in \u001b[0;36m<module>\u001b[0;34m\u001b[0m\n\u001b[1;32m      7\u001b[0m preprocess_categorical_encoding = Pipeline([\n\u001b[1;32m      8\u001b[0m                                        \u001b[0;34m(\u001b[0m\u001b[0;34m'pre_preprocess'\u001b[0m\u001b[0;34m,\u001b[0m \u001b[0mDataframeFunctionTransformer\u001b[0m\u001b[0;34m(\u001b[0m\u001b[0mpreprocess_df\u001b[0m\u001b[0;34m)\u001b[0m\u001b[0;34m)\u001b[0m\u001b[0;34m,\u001b[0m\u001b[0;34m\u001b[0m\u001b[0;34m\u001b[0m\u001b[0m\n\u001b[0;32m----> 9\u001b[0;31m                                        ('onehot', categorical_onehot())])\n\u001b[0m\u001b[1;32m     10\u001b[0m \u001b[0;34m\u001b[0m\u001b[0m\n\u001b[1;32m     11\u001b[0m numerical_encoding_scaling = Pipeline([\n",
      "\u001b[0;31mTypeError\u001b[0m: 'Pipeline' object is not callable"
     ]
    }
   ],
   "source": [
    "numerical_imput = Pipeline([('imputation', SimpleImputer(strategy='mean'))])\n",
    "categorical_onehot = Pipeline([('onehot', OneHotEncoder(sparse = False,handle_unknown='ignore'))])\n",
    "numerical_scaling = Pipeline([('scale', MinMaxScaler())])\n",
    "\n",
    "\n",
    "\n",
    "preprocess_categorical_encoding = Pipeline([\n",
    "                                       ('pre_preprocess', DataframeFunctionTransformer(preprocess_df)),\n",
    "                                       ('onehot', categorical_onehot())])\n",
    "\n",
    "numerical_encoding_scaling = Pipeline([\n",
    "                                       ('imputation', SimpleImputer(strategy='mean')),\n",
    "                                       ('scale', MinMaxScaler())])\n"
   ]
  },
  {
   "cell_type": "code",
   "execution_count": 191,
   "id": "16ec4fd0",
   "metadata": {},
   "outputs": [
    {
     "data": {
      "text/plain": [
       "Index(['name', 'fuel_type', 'km_driven', 'price'], dtype='object')"
      ]
     },
     "execution_count": 191,
     "metadata": {},
     "output_type": "execute_result"
    }
   ],
   "source": [
    "data.columns"
   ]
  },
  {
   "cell_type": "code",
   "execution_count": null,
   "id": "e4f2164d",
   "metadata": {},
   "outputs": [],
   "source": []
  },
  {
   "cell_type": "code",
   "execution_count": 181,
   "id": "5b4c65e7",
   "metadata": {},
   "outputs": [],
   "source": [
    "preprocess_full = ColumnTransformer(\n",
    "    transformers=\n",
    "    [\n",
    "    ('numerical_prprocessing',numerical_encoding_scaling,['km_driven'],),\n",
    "    ('categoral_preprocessing',preprocess_categorical_encoding,['name','fuel_type'])\n",
    "    \n",
    "    ]\n",
    ")"
   ]
  },
  {
   "cell_type": "code",
   "execution_count": 182,
   "id": "72d54f01",
   "metadata": {},
   "outputs": [],
   "source": [
    "pipe = Pipeline([\n",
    "         ('preprocess',preprocess_full),\n",
    "         ('model',LinearRegression())])"
   ]
  },
  {
   "cell_type": "code",
   "execution_count": 183,
   "id": "4fe01615",
   "metadata": {},
   "outputs": [
    {
     "data": {
      "text/html": [
       "<div>\n",
       "<style scoped>\n",
       "    .dataframe tbody tr th:only-of-type {\n",
       "        vertical-align: middle;\n",
       "    }\n",
       "\n",
       "    .dataframe tbody tr th {\n",
       "        vertical-align: top;\n",
       "    }\n",
       "\n",
       "    .dataframe thead th {\n",
       "        text-align: right;\n",
       "    }\n",
       "</style>\n",
       "<table border=\"1\" class=\"dataframe\">\n",
       "  <thead>\n",
       "    <tr style=\"text-align: right;\">\n",
       "      <th></th>\n",
       "      <th>name</th>\n",
       "      <th>fuel_type</th>\n",
       "      <th>km_driven</th>\n",
       "    </tr>\n",
       "  </thead>\n",
       "  <tbody>\n",
       "    <tr>\n",
       "      <th>0</th>\n",
       "      <td>maruti</td>\n",
       "      <td>petrol</td>\n",
       "      <td>2000.0</td>\n",
       "    </tr>\n",
       "    <tr>\n",
       "      <th>1</th>\n",
       "      <td>honda</td>\n",
       "      <td>diesel</td>\n",
       "      <td>4000.0</td>\n",
       "    </tr>\n",
       "    <tr>\n",
       "      <th>2</th>\n",
       "      <td>maruti</td>\n",
       "      <td>petrol</td>\n",
       "      <td>100.0</td>\n",
       "    </tr>\n",
       "    <tr>\n",
       "      <th>3</th>\n",
       "      <td>toyota</td>\n",
       "      <td>diesel</td>\n",
       "      <td>6344.0</td>\n",
       "    </tr>\n",
       "    <tr>\n",
       "      <th>4</th>\n",
       "      <td>honda</td>\n",
       "      <td>petrol</td>\n",
       "      <td>1234.0</td>\n",
       "    </tr>\n",
       "    <tr>\n",
       "      <th>5</th>\n",
       "      <td>toyota</td>\n",
       "      <td>diesel</td>\n",
       "      <td>NaN</td>\n",
       "    </tr>\n",
       "  </tbody>\n",
       "</table>\n",
       "</div>"
      ],
      "text/plain": [
       "     name fuel_type  km_driven\n",
       "0  maruti    petrol     2000.0\n",
       "1   honda    diesel     4000.0\n",
       "2  maruti    petrol      100.0\n",
       "3  toyota    diesel     6344.0\n",
       "4   honda    petrol     1234.0\n",
       "5  toyota    diesel        NaN"
      ]
     },
     "execution_count": 183,
     "metadata": {},
     "output_type": "execute_result"
    }
   ],
   "source": [
    "data.drop(columns = 'price')"
   ]
  },
  {
   "cell_type": "code",
   "execution_count": 184,
   "id": "1a3fa083",
   "metadata": {},
   "outputs": [
    {
     "ename": "ValueError",
     "evalue": "could not convert string to float: 'maruti'",
     "output_type": "error",
     "traceback": [
      "\u001b[0;31m---------------------------------------------------------------------------\u001b[0m",
      "\u001b[0;31mValueError\u001b[0m                                Traceback (most recent call last)",
      "\u001b[0;32m/var/folders/cv/kmsppstx0d9281mtbqrrgl6c0000gn/T/ipykernel_18852/782219420.py\u001b[0m in \u001b[0;36m<module>\u001b[0;34m\u001b[0m\n\u001b[0;32m----> 1\u001b[0;31m \u001b[0mpipe\u001b[0m\u001b[0;34m.\u001b[0m\u001b[0mfit\u001b[0m\u001b[0;34m(\u001b[0m\u001b[0mdata\u001b[0m\u001b[0;34m.\u001b[0m\u001b[0mdrop\u001b[0m\u001b[0;34m(\u001b[0m\u001b[0mcolumns\u001b[0m \u001b[0;34m=\u001b[0m \u001b[0;34m'price'\u001b[0m\u001b[0;34m)\u001b[0m\u001b[0;34m,\u001b[0m\u001b[0my\u001b[0m\u001b[0;34m)\u001b[0m\u001b[0;34m\u001b[0m\u001b[0;34m\u001b[0m\u001b[0m\n\u001b[0m",
      "\u001b[0;32m~/opt/anaconda3/lib/python3.9/site-packages/sklearn/pipeline.py\u001b[0m in \u001b[0;36mfit\u001b[0;34m(self, X, y, **fit_params)\u001b[0m\n\u001b[1;32m    392\u001b[0m             \u001b[0;32mif\u001b[0m \u001b[0mself\u001b[0m\u001b[0;34m.\u001b[0m\u001b[0m_final_estimator\u001b[0m \u001b[0;34m!=\u001b[0m \u001b[0;34m\"passthrough\"\u001b[0m\u001b[0;34m:\u001b[0m\u001b[0;34m\u001b[0m\u001b[0;34m\u001b[0m\u001b[0m\n\u001b[1;32m    393\u001b[0m                 \u001b[0mfit_params_last_step\u001b[0m \u001b[0;34m=\u001b[0m \u001b[0mfit_params_steps\u001b[0m\u001b[0;34m[\u001b[0m\u001b[0mself\u001b[0m\u001b[0;34m.\u001b[0m\u001b[0msteps\u001b[0m\u001b[0;34m[\u001b[0m\u001b[0;34m-\u001b[0m\u001b[0;36m1\u001b[0m\u001b[0;34m]\u001b[0m\u001b[0;34m[\u001b[0m\u001b[0;36m0\u001b[0m\u001b[0;34m]\u001b[0m\u001b[0;34m]\u001b[0m\u001b[0;34m\u001b[0m\u001b[0;34m\u001b[0m\u001b[0m\n\u001b[0;32m--> 394\u001b[0;31m                 \u001b[0mself\u001b[0m\u001b[0;34m.\u001b[0m\u001b[0m_final_estimator\u001b[0m\u001b[0;34m.\u001b[0m\u001b[0mfit\u001b[0m\u001b[0;34m(\u001b[0m\u001b[0mXt\u001b[0m\u001b[0;34m,\u001b[0m \u001b[0my\u001b[0m\u001b[0;34m,\u001b[0m \u001b[0;34m**\u001b[0m\u001b[0mfit_params_last_step\u001b[0m\u001b[0;34m)\u001b[0m\u001b[0;34m\u001b[0m\u001b[0;34m\u001b[0m\u001b[0m\n\u001b[0m\u001b[1;32m    395\u001b[0m \u001b[0;34m\u001b[0m\u001b[0m\n\u001b[1;32m    396\u001b[0m         \u001b[0;32mreturn\u001b[0m \u001b[0mself\u001b[0m\u001b[0;34m\u001b[0m\u001b[0;34m\u001b[0m\u001b[0m\n",
      "\u001b[0;32m~/opt/anaconda3/lib/python3.9/site-packages/sklearn/linear_model/_base.py\u001b[0m in \u001b[0;36mfit\u001b[0;34m(self, X, y, sample_weight)\u001b[0m\n\u001b[1;32m    660\u001b[0m         \u001b[0maccept_sparse\u001b[0m \u001b[0;34m=\u001b[0m \u001b[0;32mFalse\u001b[0m \u001b[0;32mif\u001b[0m \u001b[0mself\u001b[0m\u001b[0;34m.\u001b[0m\u001b[0mpositive\u001b[0m \u001b[0;32melse\u001b[0m \u001b[0;34m[\u001b[0m\u001b[0;34m\"csr\"\u001b[0m\u001b[0;34m,\u001b[0m \u001b[0;34m\"csc\"\u001b[0m\u001b[0;34m,\u001b[0m \u001b[0;34m\"coo\"\u001b[0m\u001b[0;34m]\u001b[0m\u001b[0;34m\u001b[0m\u001b[0;34m\u001b[0m\u001b[0m\n\u001b[1;32m    661\u001b[0m \u001b[0;34m\u001b[0m\u001b[0m\n\u001b[0;32m--> 662\u001b[0;31m         X, y = self._validate_data(\n\u001b[0m\u001b[1;32m    663\u001b[0m             \u001b[0mX\u001b[0m\u001b[0;34m,\u001b[0m \u001b[0my\u001b[0m\u001b[0;34m,\u001b[0m \u001b[0maccept_sparse\u001b[0m\u001b[0;34m=\u001b[0m\u001b[0maccept_sparse\u001b[0m\u001b[0;34m,\u001b[0m \u001b[0my_numeric\u001b[0m\u001b[0;34m=\u001b[0m\u001b[0;32mTrue\u001b[0m\u001b[0;34m,\u001b[0m \u001b[0mmulti_output\u001b[0m\u001b[0;34m=\u001b[0m\u001b[0;32mTrue\u001b[0m\u001b[0;34m\u001b[0m\u001b[0;34m\u001b[0m\u001b[0m\n\u001b[1;32m    664\u001b[0m         )\n",
      "\u001b[0;32m~/opt/anaconda3/lib/python3.9/site-packages/sklearn/base.py\u001b[0m in \u001b[0;36m_validate_data\u001b[0;34m(self, X, y, reset, validate_separately, **check_params)\u001b[0m\n\u001b[1;32m    579\u001b[0m                 \u001b[0my\u001b[0m \u001b[0;34m=\u001b[0m \u001b[0mcheck_array\u001b[0m\u001b[0;34m(\u001b[0m\u001b[0my\u001b[0m\u001b[0;34m,\u001b[0m \u001b[0;34m**\u001b[0m\u001b[0mcheck_y_params\u001b[0m\u001b[0;34m)\u001b[0m\u001b[0;34m\u001b[0m\u001b[0;34m\u001b[0m\u001b[0m\n\u001b[1;32m    580\u001b[0m             \u001b[0;32melse\u001b[0m\u001b[0;34m:\u001b[0m\u001b[0;34m\u001b[0m\u001b[0;34m\u001b[0m\u001b[0m\n\u001b[0;32m--> 581\u001b[0;31m                 \u001b[0mX\u001b[0m\u001b[0;34m,\u001b[0m \u001b[0my\u001b[0m \u001b[0;34m=\u001b[0m \u001b[0mcheck_X_y\u001b[0m\u001b[0;34m(\u001b[0m\u001b[0mX\u001b[0m\u001b[0;34m,\u001b[0m \u001b[0my\u001b[0m\u001b[0;34m,\u001b[0m \u001b[0;34m**\u001b[0m\u001b[0mcheck_params\u001b[0m\u001b[0;34m)\u001b[0m\u001b[0;34m\u001b[0m\u001b[0;34m\u001b[0m\u001b[0m\n\u001b[0m\u001b[1;32m    582\u001b[0m             \u001b[0mout\u001b[0m \u001b[0;34m=\u001b[0m \u001b[0mX\u001b[0m\u001b[0;34m,\u001b[0m \u001b[0my\u001b[0m\u001b[0;34m\u001b[0m\u001b[0;34m\u001b[0m\u001b[0m\n\u001b[1;32m    583\u001b[0m \u001b[0;34m\u001b[0m\u001b[0m\n",
      "\u001b[0;32m~/opt/anaconda3/lib/python3.9/site-packages/sklearn/utils/validation.py\u001b[0m in \u001b[0;36mcheck_X_y\u001b[0;34m(X, y, accept_sparse, accept_large_sparse, dtype, order, copy, force_all_finite, ensure_2d, allow_nd, multi_output, ensure_min_samples, ensure_min_features, y_numeric, estimator)\u001b[0m\n\u001b[1;32m    962\u001b[0m         \u001b[0;32mraise\u001b[0m \u001b[0mValueError\u001b[0m\u001b[0;34m(\u001b[0m\u001b[0;34m\"y cannot be None\"\u001b[0m\u001b[0;34m)\u001b[0m\u001b[0;34m\u001b[0m\u001b[0;34m\u001b[0m\u001b[0m\n\u001b[1;32m    963\u001b[0m \u001b[0;34m\u001b[0m\u001b[0m\n\u001b[0;32m--> 964\u001b[0;31m     X = check_array(\n\u001b[0m\u001b[1;32m    965\u001b[0m         \u001b[0mX\u001b[0m\u001b[0;34m,\u001b[0m\u001b[0;34m\u001b[0m\u001b[0;34m\u001b[0m\u001b[0m\n\u001b[1;32m    966\u001b[0m         \u001b[0maccept_sparse\u001b[0m\u001b[0;34m=\u001b[0m\u001b[0maccept_sparse\u001b[0m\u001b[0;34m,\u001b[0m\u001b[0;34m\u001b[0m\u001b[0;34m\u001b[0m\u001b[0m\n",
      "\u001b[0;32m~/opt/anaconda3/lib/python3.9/site-packages/sklearn/utils/validation.py\u001b[0m in \u001b[0;36mcheck_array\u001b[0;34m(array, accept_sparse, accept_large_sparse, dtype, order, copy, force_all_finite, ensure_2d, allow_nd, ensure_min_samples, ensure_min_features, estimator)\u001b[0m\n\u001b[1;32m    744\u001b[0m                     \u001b[0marray\u001b[0m \u001b[0;34m=\u001b[0m \u001b[0marray\u001b[0m\u001b[0;34m.\u001b[0m\u001b[0mastype\u001b[0m\u001b[0;34m(\u001b[0m\u001b[0mdtype\u001b[0m\u001b[0;34m,\u001b[0m \u001b[0mcasting\u001b[0m\u001b[0;34m=\u001b[0m\u001b[0;34m\"unsafe\"\u001b[0m\u001b[0;34m,\u001b[0m \u001b[0mcopy\u001b[0m\u001b[0;34m=\u001b[0m\u001b[0;32mFalse\u001b[0m\u001b[0;34m)\u001b[0m\u001b[0;34m\u001b[0m\u001b[0;34m\u001b[0m\u001b[0m\n\u001b[1;32m    745\u001b[0m                 \u001b[0;32melse\u001b[0m\u001b[0;34m:\u001b[0m\u001b[0;34m\u001b[0m\u001b[0;34m\u001b[0m\u001b[0m\n\u001b[0;32m--> 746\u001b[0;31m                     \u001b[0marray\u001b[0m \u001b[0;34m=\u001b[0m \u001b[0mnp\u001b[0m\u001b[0;34m.\u001b[0m\u001b[0masarray\u001b[0m\u001b[0;34m(\u001b[0m\u001b[0marray\u001b[0m\u001b[0;34m,\u001b[0m \u001b[0morder\u001b[0m\u001b[0;34m=\u001b[0m\u001b[0morder\u001b[0m\u001b[0;34m,\u001b[0m \u001b[0mdtype\u001b[0m\u001b[0;34m=\u001b[0m\u001b[0mdtype\u001b[0m\u001b[0;34m)\u001b[0m\u001b[0;34m\u001b[0m\u001b[0;34m\u001b[0m\u001b[0m\n\u001b[0m\u001b[1;32m    747\u001b[0m             \u001b[0;32mexcept\u001b[0m \u001b[0mComplexWarning\u001b[0m \u001b[0;32mas\u001b[0m \u001b[0mcomplex_warning\u001b[0m\u001b[0;34m:\u001b[0m\u001b[0;34m\u001b[0m\u001b[0;34m\u001b[0m\u001b[0m\n\u001b[1;32m    748\u001b[0m                 raise ValueError(\n",
      "\u001b[0;31mValueError\u001b[0m: could not convert string to float: 'maruti'"
     ]
    }
   ],
   "source": [
    "pipe.fit(data.drop(columns = 'price'),y)"
   ]
  },
  {
   "cell_type": "code",
   "execution_count": null,
   "id": "18fff8de",
   "metadata": {},
   "outputs": [],
   "source": []
  },
  {
   "cell_type": "code",
   "execution_count": 185,
   "id": "4bfead3a",
   "metadata": {
    "scrolled": true
   },
   "outputs": [
    {
     "data": {
      "text/html": [
       "<style>#sk-b3c66538-d5b4-40b1-93ef-e9791f9b7dc4 {color: black;background-color: white;}#sk-b3c66538-d5b4-40b1-93ef-e9791f9b7dc4 pre{padding: 0;}#sk-b3c66538-d5b4-40b1-93ef-e9791f9b7dc4 div.sk-toggleable {background-color: white;}#sk-b3c66538-d5b4-40b1-93ef-e9791f9b7dc4 label.sk-toggleable__label {cursor: pointer;display: block;width: 100%;margin-bottom: 0;padding: 0.3em;box-sizing: border-box;text-align: center;}#sk-b3c66538-d5b4-40b1-93ef-e9791f9b7dc4 label.sk-toggleable__label-arrow:before {content: \"▸\";float: left;margin-right: 0.25em;color: #696969;}#sk-b3c66538-d5b4-40b1-93ef-e9791f9b7dc4 label.sk-toggleable__label-arrow:hover:before {color: black;}#sk-b3c66538-d5b4-40b1-93ef-e9791f9b7dc4 div.sk-estimator:hover label.sk-toggleable__label-arrow:before {color: black;}#sk-b3c66538-d5b4-40b1-93ef-e9791f9b7dc4 div.sk-toggleable__content {max-height: 0;max-width: 0;overflow: hidden;text-align: left;background-color: #f0f8ff;}#sk-b3c66538-d5b4-40b1-93ef-e9791f9b7dc4 div.sk-toggleable__content pre {margin: 0.2em;color: black;border-radius: 0.25em;background-color: #f0f8ff;}#sk-b3c66538-d5b4-40b1-93ef-e9791f9b7dc4 input.sk-toggleable__control:checked~div.sk-toggleable__content {max-height: 200px;max-width: 100%;overflow: auto;}#sk-b3c66538-d5b4-40b1-93ef-e9791f9b7dc4 input.sk-toggleable__control:checked~label.sk-toggleable__label-arrow:before {content: \"▾\";}#sk-b3c66538-d5b4-40b1-93ef-e9791f9b7dc4 div.sk-estimator input.sk-toggleable__control:checked~label.sk-toggleable__label {background-color: #d4ebff;}#sk-b3c66538-d5b4-40b1-93ef-e9791f9b7dc4 div.sk-label input.sk-toggleable__control:checked~label.sk-toggleable__label {background-color: #d4ebff;}#sk-b3c66538-d5b4-40b1-93ef-e9791f9b7dc4 input.sk-hidden--visually {border: 0;clip: rect(1px 1px 1px 1px);clip: rect(1px, 1px, 1px, 1px);height: 1px;margin: -1px;overflow: hidden;padding: 0;position: absolute;width: 1px;}#sk-b3c66538-d5b4-40b1-93ef-e9791f9b7dc4 div.sk-estimator {font-family: monospace;background-color: #f0f8ff;border: 1px dotted black;border-radius: 0.25em;box-sizing: border-box;margin-bottom: 0.5em;}#sk-b3c66538-d5b4-40b1-93ef-e9791f9b7dc4 div.sk-estimator:hover {background-color: #d4ebff;}#sk-b3c66538-d5b4-40b1-93ef-e9791f9b7dc4 div.sk-parallel-item::after {content: \"\";width: 100%;border-bottom: 1px solid gray;flex-grow: 1;}#sk-b3c66538-d5b4-40b1-93ef-e9791f9b7dc4 div.sk-label:hover label.sk-toggleable__label {background-color: #d4ebff;}#sk-b3c66538-d5b4-40b1-93ef-e9791f9b7dc4 div.sk-serial::before {content: \"\";position: absolute;border-left: 1px solid gray;box-sizing: border-box;top: 2em;bottom: 0;left: 50%;}#sk-b3c66538-d5b4-40b1-93ef-e9791f9b7dc4 div.sk-serial {display: flex;flex-direction: column;align-items: center;background-color: white;padding-right: 0.2em;padding-left: 0.2em;}#sk-b3c66538-d5b4-40b1-93ef-e9791f9b7dc4 div.sk-item {z-index: 1;}#sk-b3c66538-d5b4-40b1-93ef-e9791f9b7dc4 div.sk-parallel {display: flex;align-items: stretch;justify-content: center;background-color: white;}#sk-b3c66538-d5b4-40b1-93ef-e9791f9b7dc4 div.sk-parallel::before {content: \"\";position: absolute;border-left: 1px solid gray;box-sizing: border-box;top: 2em;bottom: 0;left: 50%;}#sk-b3c66538-d5b4-40b1-93ef-e9791f9b7dc4 div.sk-parallel-item {display: flex;flex-direction: column;position: relative;background-color: white;}#sk-b3c66538-d5b4-40b1-93ef-e9791f9b7dc4 div.sk-parallel-item:first-child::after {align-self: flex-end;width: 50%;}#sk-b3c66538-d5b4-40b1-93ef-e9791f9b7dc4 div.sk-parallel-item:last-child::after {align-self: flex-start;width: 50%;}#sk-b3c66538-d5b4-40b1-93ef-e9791f9b7dc4 div.sk-parallel-item:only-child::after {width: 0;}#sk-b3c66538-d5b4-40b1-93ef-e9791f9b7dc4 div.sk-dashed-wrapped {border: 1px dashed gray;margin: 0 0.4em 0.5em 0.4em;box-sizing: border-box;padding-bottom: 0.4em;background-color: white;position: relative;}#sk-b3c66538-d5b4-40b1-93ef-e9791f9b7dc4 div.sk-label label {font-family: monospace;font-weight: bold;background-color: white;display: inline-block;line-height: 1.2em;}#sk-b3c66538-d5b4-40b1-93ef-e9791f9b7dc4 div.sk-label-container {position: relative;z-index: 2;text-align: center;}#sk-b3c66538-d5b4-40b1-93ef-e9791f9b7dc4 div.sk-container {/* jupyter's `normalize.less` sets `[hidden] { display: none; }` but bootstrap.min.css set `[hidden] { display: none !important; }` so we also need the `!important` here to be able to override the default hidden behavior on the sphinx rendered scikit-learn.org. See: https://github.com/scikit-learn/scikit-learn/issues/21755 */display: inline-block !important;position: relative;}#sk-b3c66538-d5b4-40b1-93ef-e9791f9b7dc4 div.sk-text-repr-fallback {display: none;}</style><div id=\"sk-b3c66538-d5b4-40b1-93ef-e9791f9b7dc4\" class=\"sk-top-container\"><div class=\"sk-text-repr-fallback\"><pre>Pipeline(steps=[(&#x27;preprocess&#x27;,\n",
       "                 ColumnTransformer(transformers=[(&#x27;init&#x27;,\n",
       "                                                  Pipeline(steps=[(&#x27;pre_preprocess&#x27;,\n",
       "                                                                   &lt;__main__.DataframeFunctionTransformer object at 0x7fa658225970&gt;)]),\n",
       "                                                  [&#x27;name&#x27;, &#x27;fuel_type&#x27;]),\n",
       "                                                 (&#x27;numerical_prprocessing&#x27;,\n",
       "                                                  Pipeline(steps=[(&#x27;imputation&#x27;,\n",
       "                                                                   SimpleImputer()),\n",
       "                                                                  (&#x27;scale&#x27;,\n",
       "                                                                   MinMaxScaler())]),\n",
       "                                                  [&#x27;km_driven&#x27;]),\n",
       "                                                 (&#x27;categoral_preprocessing&#x27;,\n",
       "                                                  Pipeline(steps=[(&#x27;onehot&#x27;,\n",
       "                                                                   OneHotEncoder(handle_unknown=&#x27;ignore&#x27;,\n",
       "                                                                                 sparse=False))]),\n",
       "                                                  [&#x27;name&#x27;, &#x27;fuel_type&#x27;])])),\n",
       "                (&#x27;model&#x27;, LinearRegression())])</pre><b>Please rerun this cell to show the HTML repr or trust the notebook.</b></div><div class=\"sk-container\" hidden><div class=\"sk-item sk-dashed-wrapped\"><div class=\"sk-label-container\"><div class=\"sk-label sk-toggleable\"><input class=\"sk-toggleable__control sk-hidden--visually\" id=\"bfcfe90c-7cbb-4126-972e-bf5e92eedf2f\" type=\"checkbox\" ><label for=\"bfcfe90c-7cbb-4126-972e-bf5e92eedf2f\" class=\"sk-toggleable__label sk-toggleable__label-arrow\">Pipeline</label><div class=\"sk-toggleable__content\"><pre>Pipeline(steps=[(&#x27;preprocess&#x27;,\n",
       "                 ColumnTransformer(transformers=[(&#x27;init&#x27;,\n",
       "                                                  Pipeline(steps=[(&#x27;pre_preprocess&#x27;,\n",
       "                                                                   &lt;__main__.DataframeFunctionTransformer object at 0x7fa658225970&gt;)]),\n",
       "                                                  [&#x27;name&#x27;, &#x27;fuel_type&#x27;]),\n",
       "                                                 (&#x27;numerical_prprocessing&#x27;,\n",
       "                                                  Pipeline(steps=[(&#x27;imputation&#x27;,\n",
       "                                                                   SimpleImputer()),\n",
       "                                                                  (&#x27;scale&#x27;,\n",
       "                                                                   MinMaxScaler())]),\n",
       "                                                  [&#x27;km_driven&#x27;]),\n",
       "                                                 (&#x27;categoral_preprocessing&#x27;,\n",
       "                                                  Pipeline(steps=[(&#x27;onehot&#x27;,\n",
       "                                                                   OneHotEncoder(handle_unknown=&#x27;ignore&#x27;,\n",
       "                                                                                 sparse=False))]),\n",
       "                                                  [&#x27;name&#x27;, &#x27;fuel_type&#x27;])])),\n",
       "                (&#x27;model&#x27;, LinearRegression())])</pre></div></div></div><div class=\"sk-serial\"><div class=\"sk-item sk-dashed-wrapped\"><div class=\"sk-label-container\"><div class=\"sk-label sk-toggleable\"><input class=\"sk-toggleable__control sk-hidden--visually\" id=\"80011e7c-c1eb-425c-bae9-d69f6ac8076f\" type=\"checkbox\" ><label for=\"80011e7c-c1eb-425c-bae9-d69f6ac8076f\" class=\"sk-toggleable__label sk-toggleable__label-arrow\">preprocess: ColumnTransformer</label><div class=\"sk-toggleable__content\"><pre>ColumnTransformer(transformers=[(&#x27;init&#x27;,\n",
       "                                 Pipeline(steps=[(&#x27;pre_preprocess&#x27;,\n",
       "                                                  &lt;__main__.DataframeFunctionTransformer object at 0x7fa658225970&gt;)]),\n",
       "                                 [&#x27;name&#x27;, &#x27;fuel_type&#x27;]),\n",
       "                                (&#x27;numerical_prprocessing&#x27;,\n",
       "                                 Pipeline(steps=[(&#x27;imputation&#x27;,\n",
       "                                                  SimpleImputer()),\n",
       "                                                 (&#x27;scale&#x27;, MinMaxScaler())]),\n",
       "                                 [&#x27;km_driven&#x27;]),\n",
       "                                (&#x27;categoral_preprocessing&#x27;,\n",
       "                                 Pipeline(steps=[(&#x27;onehot&#x27;,\n",
       "                                                  OneHotEncoder(handle_unknown=&#x27;ignore&#x27;,\n",
       "                                                                sparse=False))]),\n",
       "                                 [&#x27;name&#x27;, &#x27;fuel_type&#x27;])])</pre></div></div></div><div class=\"sk-parallel\"><div class=\"sk-parallel-item\"><div class=\"sk-item\"><div class=\"sk-label-container\"><div class=\"sk-label sk-toggleable\"><input class=\"sk-toggleable__control sk-hidden--visually\" id=\"d2caeb04-0012-4ce9-a440-1b69578a6323\" type=\"checkbox\" ><label for=\"d2caeb04-0012-4ce9-a440-1b69578a6323\" class=\"sk-toggleable__label sk-toggleable__label-arrow\">init</label><div class=\"sk-toggleable__content\"><pre>[&#x27;name&#x27;, &#x27;fuel_type&#x27;]</pre></div></div></div><div class=\"sk-serial\"><div class=\"sk-item\"><div class=\"sk-serial\"><div class=\"sk-item\"><div class=\"sk-estimator sk-toggleable\"><input class=\"sk-toggleable__control sk-hidden--visually\" id=\"3fcd36aa-8716-49a3-a8ad-1249730a377f\" type=\"checkbox\" ><label for=\"3fcd36aa-8716-49a3-a8ad-1249730a377f\" class=\"sk-toggleable__label sk-toggleable__label-arrow\">DataframeFunctionTransformer</label><div class=\"sk-toggleable__content\"><pre>&lt;__main__.DataframeFunctionTransformer object at 0x7fa658225970&gt;</pre></div></div></div></div></div></div></div></div><div class=\"sk-parallel-item\"><div class=\"sk-item\"><div class=\"sk-label-container\"><div class=\"sk-label sk-toggleable\"><input class=\"sk-toggleable__control sk-hidden--visually\" id=\"666d9927-f948-4555-8dc9-7a7a4fd6fa72\" type=\"checkbox\" ><label for=\"666d9927-f948-4555-8dc9-7a7a4fd6fa72\" class=\"sk-toggleable__label sk-toggleable__label-arrow\">numerical_prprocessing</label><div class=\"sk-toggleable__content\"><pre>[&#x27;km_driven&#x27;]</pre></div></div></div><div class=\"sk-serial\"><div class=\"sk-item\"><div class=\"sk-serial\"><div class=\"sk-item\"><div class=\"sk-estimator sk-toggleable\"><input class=\"sk-toggleable__control sk-hidden--visually\" id=\"76b273ec-8327-423f-8aa9-f2457b583793\" type=\"checkbox\" ><label for=\"76b273ec-8327-423f-8aa9-f2457b583793\" class=\"sk-toggleable__label sk-toggleable__label-arrow\">SimpleImputer</label><div class=\"sk-toggleable__content\"><pre>SimpleImputer()</pre></div></div></div><div class=\"sk-item\"><div class=\"sk-estimator sk-toggleable\"><input class=\"sk-toggleable__control sk-hidden--visually\" id=\"132091c3-1c33-45da-bae4-9aab0212375c\" type=\"checkbox\" ><label for=\"132091c3-1c33-45da-bae4-9aab0212375c\" class=\"sk-toggleable__label sk-toggleable__label-arrow\">MinMaxScaler</label><div class=\"sk-toggleable__content\"><pre>MinMaxScaler()</pre></div></div></div></div></div></div></div></div><div class=\"sk-parallel-item\"><div class=\"sk-item\"><div class=\"sk-label-container\"><div class=\"sk-label sk-toggleable\"><input class=\"sk-toggleable__control sk-hidden--visually\" id=\"a646ab52-daf7-47d1-8462-7884ce4748f0\" type=\"checkbox\" ><label for=\"a646ab52-daf7-47d1-8462-7884ce4748f0\" class=\"sk-toggleable__label sk-toggleable__label-arrow\">categoral_preprocessing</label><div class=\"sk-toggleable__content\"><pre>[&#x27;name&#x27;, &#x27;fuel_type&#x27;]</pre></div></div></div><div class=\"sk-serial\"><div class=\"sk-item\"><div class=\"sk-serial\"><div class=\"sk-item\"><div class=\"sk-estimator sk-toggleable\"><input class=\"sk-toggleable__control sk-hidden--visually\" id=\"87d7cb95-eb14-4ba1-a3ea-bfe563e34848\" type=\"checkbox\" ><label for=\"87d7cb95-eb14-4ba1-a3ea-bfe563e34848\" class=\"sk-toggleable__label sk-toggleable__label-arrow\">OneHotEncoder</label><div class=\"sk-toggleable__content\"><pre>OneHotEncoder(handle_unknown=&#x27;ignore&#x27;, sparse=False)</pre></div></div></div></div></div></div></div></div></div></div><div class=\"sk-item\"><div class=\"sk-estimator sk-toggleable\"><input class=\"sk-toggleable__control sk-hidden--visually\" id=\"c83f1fac-75bf-4885-81c8-a2048b00223d\" type=\"checkbox\" ><label for=\"c83f1fac-75bf-4885-81c8-a2048b00223d\" class=\"sk-toggleable__label sk-toggleable__label-arrow\">LinearRegression</label><div class=\"sk-toggleable__content\"><pre>LinearRegression()</pre></div></div></div></div></div></div></div>"
      ],
      "text/plain": [
       "Pipeline(steps=[('preprocess',\n",
       "                 ColumnTransformer(transformers=[('init',\n",
       "                                                  Pipeline(steps=[('pre_preprocess',\n",
       "                                                                   <__main__.DataframeFunctionTransformer object at 0x7fa658225970>)]),\n",
       "                                                  ['name', 'fuel_type']),\n",
       "                                                 ('numerical_prprocessing',\n",
       "                                                  Pipeline(steps=[('imputation',\n",
       "                                                                   SimpleImputer()),\n",
       "                                                                  ('scale',\n",
       "                                                                   MinMaxScaler())]),\n",
       "                                                  ['km_driven']),\n",
       "                                                 ('categoral_preprocessing',\n",
       "                                                  Pipeline(steps=[('onehot',\n",
       "                                                                   OneHotEncoder(handle_unknown='ignore',\n",
       "                                                                                 sparse=False))]),\n",
       "                                                  ['name', 'fuel_type'])])),\n",
       "                ('model', LinearRegression())])"
      ]
     },
     "metadata": {},
     "output_type": "display_data"
    }
   ],
   "source": [
    "from sklearn import set_config\n",
    "set_config(display='diagram')  \n",
    "display(pipe)"
   ]
  },
  {
   "cell_type": "code",
   "execution_count": 121,
   "id": "902218fe",
   "metadata": {},
   "outputs": [],
   "source": [
    "new_test = ['toyota','petrol',np.NaN]"
   ]
  },
  {
   "cell_type": "code",
   "execution_count": 122,
   "id": "05d8c82d",
   "metadata": {},
   "outputs": [],
   "source": [
    "new_ = pd.DataFrame(new_test).T"
   ]
  },
  {
   "cell_type": "code",
   "execution_count": 123,
   "id": "61bad0ab",
   "metadata": {},
   "outputs": [],
   "source": [
    "new_.columns = ['name','fuel_type', 'km_driven']"
   ]
  },
  {
   "cell_type": "code",
   "execution_count": 124,
   "id": "874f4e4c",
   "metadata": {},
   "outputs": [
    {
     "data": {
      "text/html": [
       "<div>\n",
       "<style scoped>\n",
       "    .dataframe tbody tr th:only-of-type {\n",
       "        vertical-align: middle;\n",
       "    }\n",
       "\n",
       "    .dataframe tbody tr th {\n",
       "        vertical-align: top;\n",
       "    }\n",
       "\n",
       "    .dataframe thead th {\n",
       "        text-align: right;\n",
       "    }\n",
       "</style>\n",
       "<table border=\"1\" class=\"dataframe\">\n",
       "  <thead>\n",
       "    <tr style=\"text-align: right;\">\n",
       "      <th></th>\n",
       "      <th>name</th>\n",
       "      <th>fuel_type</th>\n",
       "      <th>km_driven</th>\n",
       "    </tr>\n",
       "  </thead>\n",
       "  <tbody>\n",
       "    <tr>\n",
       "      <th>0</th>\n",
       "      <td>toyota</td>\n",
       "      <td>petrol</td>\n",
       "      <td>NaN</td>\n",
       "    </tr>\n",
       "  </tbody>\n",
       "</table>\n",
       "</div>"
      ],
      "text/plain": [
       "     name fuel_type km_driven\n",
       "0  toyota    petrol       NaN"
      ]
     },
     "execution_count": 124,
     "metadata": {},
     "output_type": "execute_result"
    }
   ],
   "source": [
    "new_"
   ]
  },
  {
   "cell_type": "code",
   "execution_count": null,
   "id": "f125b878",
   "metadata": {},
   "outputs": [],
   "source": []
  },
  {
   "cell_type": "code",
   "execution_count": 125,
   "id": "dea45f92",
   "metadata": {},
   "outputs": [
    {
     "data": {
      "text/plain": [
       "array([904492.0686354])"
      ]
     },
     "execution_count": 125,
     "metadata": {},
     "output_type": "execute_result"
    }
   ],
   "source": [
    "pipe.predict(new_)"
   ]
  },
  {
   "cell_type": "code",
   "execution_count": 126,
   "id": "64407ccc",
   "metadata": {},
   "outputs": [
    {
     "data": {
      "text/plain": [
       "['preprocess_model.pkl']"
      ]
     },
     "execution_count": 126,
     "metadata": {},
     "output_type": "execute_result"
    }
   ],
   "source": [
    "joblib.dump(pipe,'preprocess_model.pkl')"
   ]
  },
  {
   "cell_type": "code",
   "execution_count": null,
   "id": "ee0ccc41",
   "metadata": {},
   "outputs": [],
   "source": []
  }
 ],
 "metadata": {
  "kernelspec": {
   "display_name": "Python 3 (ipykernel)",
   "language": "python",
   "name": "python3"
  },
  "language_info": {
   "codemirror_mode": {
    "name": "ipython",
    "version": 3
   },
   "file_extension": ".py",
   "mimetype": "text/x-python",
   "name": "python",
   "nbconvert_exporter": "python",
   "pygments_lexer": "ipython3",
   "version": "3.9.13"
  }
 },
 "nbformat": 4,
 "nbformat_minor": 5
}
