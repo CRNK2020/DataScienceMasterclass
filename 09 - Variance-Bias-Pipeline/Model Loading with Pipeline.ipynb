{
 "cells": [
  {
   "cell_type": "code",
   "execution_count": 19,
   "id": "ba6f74bf",
   "metadata": {},
   "outputs": [],
   "source": [
    "import joblib\n",
    "import numpy as np\n",
    "import pandas as pd"
   ]
  },
  {
   "cell_type": "code",
   "execution_count": 20,
   "id": "3f95c747",
   "metadata": {},
   "outputs": [],
   "source": [
    "model = joblib.load('preprocess_model.pkl')"
   ]
  },
  {
   "cell_type": "code",
   "execution_count": 49,
   "id": "9f784704",
   "metadata": {},
   "outputs": [],
   "source": [
    "new_test = ['maruti','petrol',np.NaN]"
   ]
  },
  {
   "cell_type": "code",
   "execution_count": 50,
   "id": "0a6034db",
   "metadata": {},
   "outputs": [],
   "source": [
    "new_ = pd.DataFrame(new_test).T"
   ]
  },
  {
   "cell_type": "code",
   "execution_count": 51,
   "id": "d203330a",
   "metadata": {},
   "outputs": [],
   "source": [
    "new_.columns = ['name','fuel_type', 'km_driven']"
   ]
  },
  {
   "cell_type": "code",
   "execution_count": 52,
   "id": "06bdc407",
   "metadata": {},
   "outputs": [
    {
     "data": {
      "text/plain": [
       "array([232361.1974338])"
      ]
     },
     "execution_count": 52,
     "metadata": {},
     "output_type": "execute_result"
    }
   ],
   "source": [
    "model.predict(new_)"
   ]
  },
  {
   "cell_type": "code",
   "execution_count": null,
   "id": "34ec42c9",
   "metadata": {},
   "outputs": [],
   "source": []
  }
 ],
 "metadata": {
  "kernelspec": {
   "display_name": "Python 3 (ipykernel)",
   "language": "python",
   "name": "python3"
  },
  "language_info": {
   "codemirror_mode": {
    "name": "ipython",
    "version": 3
   },
   "file_extension": ".py",
   "mimetype": "text/x-python",
   "name": "python",
   "nbconvert_exporter": "python",
   "pygments_lexer": "ipython3",
   "version": "3.9.13"
  }
 },
 "nbformat": 4,
 "nbformat_minor": 5
}
