{
 "cells": [
  {
   "cell_type": "markdown",
   "id": "e64f6f28",
   "metadata": {},
   "source": [
    "4. Data Type (List, Tuple, String, Set, Dictionary)\n",
    "5. lambda + comprehension + map,filter,reduce"
   ]
  },
  {
   "cell_type": "markdown",
   "id": "ec77bcb1",
   "metadata": {},
   "source": [
    "# Data Type:\n",
    "    "
   ]
  },
  {
   "cell_type": "markdown",
   "id": "b21f2679",
   "metadata": {},
   "source": [
    "##  List"
   ]
  },
  {
   "cell_type": "code",
   "execution_count": 1,
   "id": "cb7a2f05",
   "metadata": {},
   "outputs": [],
   "source": [
    "# Creating an empty list\n",
    "shopping = []\n"
   ]
  },
  {
   "cell_type": "code",
   "execution_count": 2,
   "id": "3b353255",
   "metadata": {},
   "outputs": [
    {
     "data": {
      "text/plain": [
       "list"
      ]
     },
     "execution_count": 2,
     "metadata": {},
     "output_type": "execute_result"
    }
   ],
   "source": [
    "# Checking the type of the list\n",
    "type(shopping)"
   ]
  },
  {
   "cell_type": "code",
   "execution_count": 3,
   "id": "fd7a6be7",
   "metadata": {},
   "outputs": [
    {
     "data": {
      "text/plain": [
       "0"
      ]
     },
     "execution_count": 3,
     "metadata": {},
     "output_type": "execute_result"
    }
   ],
   "source": [
    "# Finding the length of the list\n",
    "len(shopping)\n"
   ]
  },
  {
   "cell_type": "code",
   "execution_count": 117,
   "id": "3a0d40b4",
   "metadata": {},
   "outputs": [
    {
     "data": {
      "text/plain": [
       "list"
      ]
     },
     "execution_count": 117,
     "metadata": {},
     "output_type": "execute_result"
    }
   ],
   "source": [
    "# Creating a list with initial values\n",
    "shopping = list(('Rice', 'Apple', 'Milk', 'Dal', 'Curd', 'Mango'))\n",
    "type(shopping)\n"
   ]
  },
  {
   "cell_type": "code",
   "execution_count": 8,
   "id": "d0591577",
   "metadata": {},
   "outputs": [],
   "source": [
    "# Creating a list using square brackets\n",
    "shopping = ['Rice', 'Apple', 'Milk', 'Dal',  'Curd', 'Mango']\n",
    "#shopping=> [0     ,   1    ,   2   , 3    ,  4     ,   5    ]"
   ]
  },
  {
   "cell_type": "code",
   "execution_count": 9,
   "id": "0d27baac",
   "metadata": {},
   "outputs": [
    {
     "data": {
      "text/plain": [
       "list"
      ]
     },
     "execution_count": 9,
     "metadata": {},
     "output_type": "execute_result"
    }
   ],
   "source": [
    "type(shopping)"
   ]
  },
  {
   "cell_type": "code",
   "execution_count": 10,
   "id": "3216ee0a",
   "metadata": {},
   "outputs": [
    {
     "data": {
      "text/plain": [
       "6"
      ]
     },
     "execution_count": 10,
     "metadata": {},
     "output_type": "execute_result"
    }
   ],
   "source": [
    "len(shopping)"
   ]
  },
  {
   "cell_type": "code",
   "execution_count": 11,
   "id": "7452f913",
   "metadata": {},
   "outputs": [],
   "source": [
    "#Indexing starts from 0 always"
   ]
  },
  {
   "cell_type": "code",
   "execution_count": 12,
   "id": "aa5a1692",
   "metadata": {},
   "outputs": [
    {
     "data": {
      "text/plain": [
       "'Apple'"
      ]
     },
     "execution_count": 12,
     "metadata": {},
     "output_type": "execute_result"
    }
   ],
   "source": [
    "# Accessing elements in a list using index\n",
    "shopping[1]"
   ]
  },
  {
   "cell_type": "code",
   "execution_count": 13,
   "id": "ceda398e",
   "metadata": {},
   "outputs": [
    {
     "data": {
      "text/plain": [
       "['Apple', 'Milk', 'Dal', 'Curd']"
      ]
     },
     "execution_count": 13,
     "metadata": {},
     "output_type": "execute_result"
    }
   ],
   "source": [
    "# Slicing a list to retrieve a subset of elements\n",
    "shopping[1:5]\n",
    "\n",
    "#1:5 => 2nd position data from the list to 5th Position data in the list"
   ]
  },
  {
   "cell_type": "code",
   "execution_count": 15,
   "id": "10fd753f",
   "metadata": {},
   "outputs": [],
   "source": [
    "# Updating an element in the list\n",
    "shopping[1] = 'Orange'"
   ]
  },
  {
   "cell_type": "code",
   "execution_count": 16,
   "id": "8579efcf",
   "metadata": {},
   "outputs": [
    {
     "data": {
      "text/plain": [
       "['Rice', 'Orange', 'Milk', 'Dal', 'Curd', 'Mango']"
      ]
     },
     "execution_count": 16,
     "metadata": {},
     "output_type": "execute_result"
    }
   ],
   "source": [
    "shopping"
   ]
  },
  {
   "cell_type": "code",
   "execution_count": 22,
   "id": "7b5a4842",
   "metadata": {},
   "outputs": [],
   "source": [
    "# Appending an element to the list\n",
    "shopping.append('Rice')\n"
   ]
  },
  {
   "cell_type": "code",
   "execution_count": 23,
   "id": "f80a1a82",
   "metadata": {},
   "outputs": [
    {
     "data": {
      "text/plain": [
       "['Rice', 'Orange', 'Milk', 'Dal', 'Curd', 'Mango', 'Rice']"
      ]
     },
     "execution_count": 23,
     "metadata": {},
     "output_type": "execute_result"
    }
   ],
   "source": [
    "shopping"
   ]
  },
  {
   "cell_type": "code",
   "execution_count": 21,
   "id": "ea18c8ae",
   "metadata": {},
   "outputs": [
    {
     "name": "stdout",
     "output_type": "stream",
     "text": [
      "1\n"
     ]
    }
   ],
   "source": [
    "# Counting the occurrences of an element in the list\n",
    "shopping.count('Orange')\n"
   ]
  },
  {
   "cell_type": "code",
   "execution_count": 24,
   "id": "fc29b0ae",
   "metadata": {},
   "outputs": [
    {
     "name": "stdout",
     "output_type": "stream",
     "text": [
      "2\n"
     ]
    }
   ],
   "source": [
    "print(shopping.count('Rice'))"
   ]
  },
  {
   "cell_type": "code",
   "execution_count": 25,
   "id": "0c8a7f94",
   "metadata": {},
   "outputs": [],
   "source": [
    "# Removing an element from the list\n",
    "shopping.remove('Orange')"
   ]
  },
  {
   "cell_type": "code",
   "execution_count": null,
   "id": "56f3b4ba",
   "metadata": {},
   "outputs": [],
   "source": [
    "# Sorting the list in reverse order\n",
    "shopping.sort(reverse=True)\n"
   ]
  },
  {
   "cell_type": "code",
   "execution_count": 26,
   "id": "4a6f7765",
   "metadata": {},
   "outputs": [
    {
     "data": {
      "text/plain": [
       "['Rice', 'Milk', 'Dal', 'Curd', 'Mango', 'Rice']"
      ]
     },
     "execution_count": 26,
     "metadata": {},
     "output_type": "execute_result"
    }
   ],
   "source": [
    "shopping"
   ]
  },
  {
   "cell_type": "code",
   "execution_count": 27,
   "id": "008b0608",
   "metadata": {},
   "outputs": [],
   "source": [
    "shopping.remove('Rice')"
   ]
  },
  {
   "cell_type": "code",
   "execution_count": 28,
   "id": "f8f9c9eb",
   "metadata": {},
   "outputs": [
    {
     "data": {
      "text/plain": [
       "['Milk', 'Dal', 'Curd', 'Mango', 'Rice']"
      ]
     },
     "execution_count": 28,
     "metadata": {},
     "output_type": "execute_result"
    }
   ],
   "source": [
    "shopping"
   ]
  },
  {
   "cell_type": "code",
   "execution_count": 30,
   "id": "d016e909",
   "metadata": {},
   "outputs": [],
   "source": [
    "shopping.remove('Milk')"
   ]
  },
  {
   "cell_type": "code",
   "execution_count": 31,
   "id": "1586c86d",
   "metadata": {},
   "outputs": [
    {
     "data": {
      "text/plain": [
       "['Dal', 'Curd', 'Mango', 'Rice']"
      ]
     },
     "execution_count": 31,
     "metadata": {},
     "output_type": "execute_result"
    }
   ],
   "source": [
    "shopping"
   ]
  },
  {
   "cell_type": "code",
   "execution_count": 32,
   "id": "da057878",
   "metadata": {},
   "outputs": [],
   "source": [
    "del shopping[1]"
   ]
  },
  {
   "cell_type": "code",
   "execution_count": 34,
   "id": "9242a1e8",
   "metadata": {},
   "outputs": [
    {
     "name": "stdout",
     "output_type": "stream",
     "text": [
      "57\n"
     ]
    }
   ],
   "source": [
    "a = 45\n",
    "b = 12\n",
    "\n",
    "c = a+b\n",
    "print(c)"
   ]
  },
  {
   "cell_type": "code",
   "execution_count": 39,
   "id": "54b3604c",
   "metadata": {},
   "outputs": [],
   "source": [
    "del a"
   ]
  },
  {
   "cell_type": "code",
   "execution_count": 40,
   "id": "d2891471",
   "metadata": {},
   "outputs": [
    {
     "ename": "NameError",
     "evalue": "name 'a' is not defined",
     "output_type": "error",
     "traceback": [
      "\u001b[0;31m---------------------------------------------------------------------------\u001b[0m",
      "\u001b[0;31mNameError\u001b[0m                                 Traceback (most recent call last)",
      "\u001b[0;32m/var/folders/cv/kmsppstx0d9281mtbqrrgl6c0000gn/T/ipykernel_27328/3862277892.py\u001b[0m in \u001b[0;36m<module>\u001b[0;34m\u001b[0m\n\u001b[0;32m----> 1\u001b[0;31m \u001b[0mc\u001b[0m \u001b[0;34m=\u001b[0m \u001b[0ma\u001b[0m\u001b[0;34m+\u001b[0m\u001b[0mb\u001b[0m\u001b[0;34m\u001b[0m\u001b[0;34m\u001b[0m\u001b[0m\n\u001b[0m\u001b[1;32m      2\u001b[0m \u001b[0mprint\u001b[0m\u001b[0;34m(\u001b[0m\u001b[0mc\u001b[0m\u001b[0;34m)\u001b[0m\u001b[0;34m\u001b[0m\u001b[0;34m\u001b[0m\u001b[0m\n",
      "\u001b[0;31mNameError\u001b[0m: name 'a' is not defined"
     ]
    }
   ],
   "source": [
    "c = a+b\n",
    "print(c)"
   ]
  },
  {
   "cell_type": "code",
   "execution_count": 33,
   "id": "1135f6f7",
   "metadata": {},
   "outputs": [
    {
     "data": {
      "text/plain": [
       "['Dal', 'Mango', 'Rice']"
      ]
     },
     "execution_count": 33,
     "metadata": {},
     "output_type": "execute_result"
    }
   ],
   "source": [
    "shopping"
   ]
  },
  {
   "cell_type": "code",
   "execution_count": null,
   "id": "8a24df39",
   "metadata": {},
   "outputs": [],
   "source": [
    "1. Order is preserved\n",
    "2. Retreival can be done using the index\n",
    "3. Data inside the list can be updated or modified\n",
    "4. Duplicatikon is allowed\n",
    "5. Deletion is removed\n",
    "6. It can accept any type of data"
   ]
  },
  {
   "cell_type": "code",
   "execution_count": 43,
   "id": "bc160ca3",
   "metadata": {},
   "outputs": [],
   "source": [
    "shopping.sort(reverse=True)"
   ]
  },
  {
   "cell_type": "code",
   "execution_count": 42,
   "id": "2ee7e8a2",
   "metadata": {},
   "outputs": [
    {
     "data": {
      "text/plain": [
       "['Dal', 'Mango', 'Rice']"
      ]
     },
     "execution_count": 42,
     "metadata": {},
     "output_type": "execute_result"
    }
   ],
   "source": [
    "shopping"
   ]
  },
  {
   "cell_type": "code",
   "execution_count": 44,
   "id": "dd3dfd85",
   "metadata": {},
   "outputs": [
    {
     "data": {
      "text/plain": [
       "['Rice', 'Mango', 'Dal']"
      ]
     },
     "execution_count": 44,
     "metadata": {},
     "output_type": "execute_result"
    }
   ],
   "source": [
    "shopping"
   ]
  },
  {
   "cell_type": "code",
   "execution_count": null,
   "id": "b3240433",
   "metadata": {},
   "outputs": [],
   "source": []
  },
  {
   "cell_type": "markdown",
   "id": "74525c77",
   "metadata": {},
   "source": [
    "## Tuple"
   ]
  },
  {
   "cell_type": "code",
   "execution_count": null,
   "id": "d9c67738",
   "metadata": {},
   "outputs": [],
   "source": [
    "# Creating a tuple\n",
    "shopping = tuple(('Rice', 'Apple', 'Milk', 'Dal', 'Curd', 'Mango'))\n",
    "type(shopping)\n"
   ]
  },
  {
   "cell_type": "code",
   "execution_count": 55,
   "id": "6ef7102c",
   "metadata": {},
   "outputs": [],
   "source": [
    "# Accessing elements in a tuple using index\n",
    "receipt = ('Rice', 'Dal', 'Wheat', 1, 43.5, 1+2j, 1)\n",
    "receipt[0]\n"
   ]
  },
  {
   "cell_type": "code",
   "execution_count": 56,
   "id": "a61fab53",
   "metadata": {},
   "outputs": [
    {
     "data": {
      "text/plain": [
       "'Rice'"
      ]
     },
     "execution_count": 56,
     "metadata": {},
     "output_type": "execute_result"
    }
   ],
   "source": [
    "receipt[0]"
   ]
  },
  {
   "cell_type": "code",
   "execution_count": 57,
   "id": "61c5bade",
   "metadata": {},
   "outputs": [
    {
     "ename": "TypeError",
     "evalue": "'tuple' object does not support item assignment",
     "output_type": "error",
     "traceback": [
      "\u001b[0;31m---------------------------------------------------------------------------\u001b[0m",
      "\u001b[0;31mTypeError\u001b[0m                                 Traceback (most recent call last)",
      "\u001b[0;32m/var/folders/cv/kmsppstx0d9281mtbqrrgl6c0000gn/T/ipykernel_27328/891804713.py\u001b[0m in \u001b[0;36m<module>\u001b[0;34m\u001b[0m\n\u001b[0;32m----> 1\u001b[0;31m \u001b[0mreceipt\u001b[0m\u001b[0;34m[\u001b[0m\u001b[0;36m2\u001b[0m\u001b[0;34m]\u001b[0m \u001b[0;34m=\u001b[0m \u001b[0;34m'Barley'\u001b[0m\u001b[0;34m\u001b[0m\u001b[0;34m\u001b[0m\u001b[0m\n\u001b[0m",
      "\u001b[0;31mTypeError\u001b[0m: 'tuple' object does not support item assignment"
     ]
    }
   ],
   "source": [
    "receipt[2] = 'Barley'"
   ]
  },
  {
   "cell_type": "code",
   "execution_count": 59,
   "id": "156272f6",
   "metadata": {},
   "outputs": [
    {
     "data": {
      "text/plain": [
       "2"
      ]
     },
     "execution_count": 59,
     "metadata": {},
     "output_type": "execute_result"
    }
   ],
   "source": [
    "receipt.count(1)"
   ]
  },
  {
   "cell_type": "code",
   "execution_count": 60,
   "id": "e8b57cef",
   "metadata": {},
   "outputs": [
    {
     "ename": "TypeError",
     "evalue": "'tuple' object doesn't support item deletion",
     "output_type": "error",
     "traceback": [
      "\u001b[0;31m---------------------------------------------------------------------------\u001b[0m",
      "\u001b[0;31mTypeError\u001b[0m                                 Traceback (most recent call last)",
      "\u001b[0;32m/var/folders/cv/kmsppstx0d9281mtbqrrgl6c0000gn/T/ipykernel_27328/410016703.py\u001b[0m in \u001b[0;36m<module>\u001b[0;34m\u001b[0m\n\u001b[0;32m----> 1\u001b[0;31m \u001b[0;32mdel\u001b[0m \u001b[0mreceipt\u001b[0m\u001b[0;34m[\u001b[0m\u001b[0;36m0\u001b[0m\u001b[0;34m]\u001b[0m\u001b[0;34m\u001b[0m\u001b[0;34m\u001b[0m\u001b[0m\n\u001b[0m",
      "\u001b[0;31mTypeError\u001b[0m: 'tuple' object doesn't support item deletion"
     ]
    }
   ],
   "source": [
    "del receipt[0]"
   ]
  },
  {
   "cell_type": "code",
   "execution_count": 62,
   "id": "cf1b6c1d",
   "metadata": {},
   "outputs": [
    {
     "data": {
      "text/plain": [
       "7"
      ]
     },
     "execution_count": 62,
     "metadata": {},
     "output_type": "execute_result"
    }
   ],
   "source": [
    "len(receipt)"
   ]
  },
  {
   "cell_type": "code",
   "execution_count": null,
   "id": "af28a144",
   "metadata": {},
   "outputs": [],
   "source": [
    "1. Order is preserved\n",
    "2. Retreival is done using the index\n",
    "3. Tuple cannot be interchanged with existing data into the tuple.\n",
    "4. It can accept any type of data\n",
    "5. Duplicatikon is allowed\n",
    "6. Deletion is not allowed\n"
   ]
  },
  {
   "cell_type": "code",
   "execution_count": null,
   "id": "d2b61072",
   "metadata": {},
   "outputs": [],
   "source": []
  },
  {
   "cell_type": "markdown",
   "id": "20efc4b7",
   "metadata": {},
   "source": [
    "## String"
   ]
  },
  {
   "cell_type": "code",
   "execution_count": 121,
   "id": "1ae51ceb",
   "metadata": {},
   "outputs": [
    {
     "data": {
      "text/plain": [
       "str"
      ]
     },
     "execution_count": 121,
     "metadata": {},
     "output_type": "execute_result"
    }
   ],
   "source": [
    "# Creating a string\n",
    "message = str(234)\n",
    "type(message)"
   ]
  },
  {
   "cell_type": "code",
   "execution_count": 122,
   "id": "c78ae35a",
   "metadata": {},
   "outputs": [
    {
     "data": {
      "text/plain": [
       "'234'"
      ]
     },
     "execution_count": 122,
     "metadata": {},
     "output_type": "execute_result"
    }
   ],
   "source": [
    "message"
   ]
  },
  {
   "cell_type": "code",
   "execution_count": 63,
   "id": "8815fe36",
   "metadata": {},
   "outputs": [],
   "source": [
    "message = \"Hi I Welcome you all\""
   ]
  },
  {
   "cell_type": "code",
   "execution_count": 65,
   "id": "0608b833",
   "metadata": {},
   "outputs": [
    {
     "data": {
      "text/plain": [
       "20"
      ]
     },
     "execution_count": 65,
     "metadata": {},
     "output_type": "execute_result"
    }
   ],
   "source": [
    "# Accessing characters in a string using index\n",
    "message[3]"
   ]
  },
  {
   "cell_type": "code",
   "execution_count": 68,
   "id": "80458e1e",
   "metadata": {},
   "outputs": [
    {
     "data": {
      "text/plain": [
       "'I'"
      ]
     },
     "execution_count": 68,
     "metadata": {},
     "output_type": "execute_result"
    }
   ],
   "source": [
    "message[3]"
   ]
  },
  {
   "cell_type": "code",
   "execution_count": 70,
   "id": "cb3b343f",
   "metadata": {},
   "outputs": [
    {
     "data": {
      "text/plain": [
       "'I Welcome'"
      ]
     },
     "execution_count": 70,
     "metadata": {},
     "output_type": "execute_result"
    }
   ],
   "source": [
    "message[3:12]"
   ]
  },
  {
   "cell_type": "code",
   "execution_count": 74,
   "id": "28957e2c",
   "metadata": {},
   "outputs": [
    {
     "data": {
      "text/plain": [
       "'l'"
      ]
     },
     "execution_count": 74,
     "metadata": {},
     "output_type": "execute_result"
    }
   ],
   "source": [
    "message[-1]"
   ]
  },
  {
   "cell_type": "code",
   "execution_count": 72,
   "id": "654caa04",
   "metadata": {},
   "outputs": [
    {
     "ename": "TypeError",
     "evalue": "'str' object does not support item assignment",
     "output_type": "error",
     "traceback": [
      "\u001b[0;31m---------------------------------------------------------------------------\u001b[0m",
      "\u001b[0;31mTypeError\u001b[0m                                 Traceback (most recent call last)",
      "\u001b[0;32m/var/folders/cv/kmsppstx0d9281mtbqrrgl6c0000gn/T/ipykernel_27328/3384938873.py\u001b[0m in \u001b[0;36m<module>\u001b[0;34m\u001b[0m\n\u001b[0;32m----> 1\u001b[0;31m \u001b[0mmessage\u001b[0m\u001b[0;34m[\u001b[0m\u001b[0;36m3\u001b[0m\u001b[0;34m]\u001b[0m \u001b[0;34m=\u001b[0m \u001b[0;34m'U'\u001b[0m\u001b[0;34m\u001b[0m\u001b[0;34m\u001b[0m\u001b[0m\n\u001b[0m",
      "\u001b[0;31mTypeError\u001b[0m: 'str' object does not support item assignment"
     ]
    }
   ],
   "source": [
    "message[3] = 'U'"
   ]
  },
  {
   "cell_type": "code",
   "execution_count": 73,
   "id": "6df54180",
   "metadata": {},
   "outputs": [
    {
     "ename": "TypeError",
     "evalue": "'str' object doesn't support item deletion",
     "output_type": "error",
     "traceback": [
      "\u001b[0;31m---------------------------------------------------------------------------\u001b[0m",
      "\u001b[0;31mTypeError\u001b[0m                                 Traceback (most recent call last)",
      "\u001b[0;32m/var/folders/cv/kmsppstx0d9281mtbqrrgl6c0000gn/T/ipykernel_27328/2395371598.py\u001b[0m in \u001b[0;36m<module>\u001b[0;34m\u001b[0m\n\u001b[0;32m----> 1\u001b[0;31m \u001b[0;32mdel\u001b[0m \u001b[0mmessage\u001b[0m\u001b[0;34m[\u001b[0m\u001b[0;36m3\u001b[0m\u001b[0;34m]\u001b[0m\u001b[0;34m\u001b[0m\u001b[0;34m\u001b[0m\u001b[0m\n\u001b[0m",
      "\u001b[0;31mTypeError\u001b[0m: 'str' object doesn't support item deletion"
     ]
    }
   ],
   "source": [
    "del message[3] "
   ]
  },
  {
   "cell_type": "markdown",
   "id": "3336dc5e",
   "metadata": {},
   "source": [
    "## Set"
   ]
  },
  {
   "cell_type": "code",
   "execution_count": 120,
   "id": "1c205c9c",
   "metadata": {},
   "outputs": [
    {
     "data": {
      "text/plain": [
       "set"
      ]
     },
     "execution_count": 120,
     "metadata": {},
     "output_type": "execute_result"
    }
   ],
   "source": [
    "# Creating a set\n",
    "shopping = set(('Rice', 'Apple', 'Milk', 'Dal', 'Curd', 'Mango'))\n",
    "type(shopping)"
   ]
  },
  {
   "cell_type": "code",
   "execution_count": 88,
   "id": "465f7afd",
   "metadata": {},
   "outputs": [],
   "source": [
    "# Creating sets with unique elements\n",
    "Purchased_Item = {'milk', 'apple', 'apple', 'milk', 'curd'}"
   ]
  },
  {
   "cell_type": "code",
   "execution_count": 89,
   "id": "93af34df",
   "metadata": {},
   "outputs": [
    {
     "data": {
      "text/plain": [
       "{'apple', 'curd', 'milk'}"
      ]
     },
     "execution_count": 89,
     "metadata": {},
     "output_type": "execute_result"
    }
   ],
   "source": [
    "Purchased_Item"
   ]
  },
  {
   "cell_type": "code",
   "execution_count": 94,
   "id": "5c35ae8d",
   "metadata": {},
   "outputs": [],
   "source": [
    "price = {2332,4213,233,331434,2323,2323,99809}"
   ]
  },
  {
   "cell_type": "code",
   "execution_count": 95,
   "id": "16788a38",
   "metadata": {},
   "outputs": [
    {
     "data": {
      "text/plain": [
       "{331, 2323, 42135, 99809, 233232, 2332132}"
      ]
     },
     "execution_count": 95,
     "metadata": {},
     "output_type": "execute_result"
    }
   ],
   "source": [
    "price"
   ]
  },
  {
   "cell_type": "code",
   "execution_count": 76,
   "id": "c48e1d98",
   "metadata": {},
   "outputs": [],
   "source": [
    "price = {23,45,23,1,2,2,3}"
   ]
  },
  {
   "cell_type": "code",
   "execution_count": null,
   "id": "146d7d02",
   "metadata": {},
   "outputs": [],
   "source": [
    "[] list\n",
    "() tuple\n",
    "{} set"
   ]
  },
  {
   "cell_type": "code",
   "execution_count": 78,
   "id": "2edfda0f",
   "metadata": {},
   "outputs": [
    {
     "data": {
      "text/plain": [
       "{1, 2, 3, 23, 45}"
      ]
     },
     "execution_count": 78,
     "metadata": {},
     "output_type": "execute_result"
    }
   ],
   "source": [
    "price"
   ]
  },
  {
   "cell_type": "code",
   "execution_count": 79,
   "id": "b6f0c4e3",
   "metadata": {},
   "outputs": [
    {
     "ename": "TypeError",
     "evalue": "'set' object is not subscriptable",
     "output_type": "error",
     "traceback": [
      "\u001b[0;31m---------------------------------------------------------------------------\u001b[0m",
      "\u001b[0;31mTypeError\u001b[0m                                 Traceback (most recent call last)",
      "\u001b[0;32m/var/folders/cv/kmsppstx0d9281mtbqrrgl6c0000gn/T/ipykernel_27328/1003180897.py\u001b[0m in \u001b[0;36m<module>\u001b[0;34m\u001b[0m\n\u001b[0;32m----> 1\u001b[0;31m \u001b[0mprice\u001b[0m\u001b[0;34m[\u001b[0m\u001b[0;36m0\u001b[0m\u001b[0;34m]\u001b[0m\u001b[0;34m\u001b[0m\u001b[0;34m\u001b[0m\u001b[0m\n\u001b[0m",
      "\u001b[0;31mTypeError\u001b[0m: 'set' object is not subscriptable"
     ]
    }
   ],
   "source": [
    "price[0]"
   ]
  },
  {
   "cell_type": "code",
   "execution_count": 80,
   "id": "129290e8",
   "metadata": {},
   "outputs": [
    {
     "data": {
      "text/plain": [
       "1"
      ]
     },
     "execution_count": 80,
     "metadata": {},
     "output_type": "execute_result"
    }
   ],
   "source": [
    "price.pop()"
   ]
  },
  {
   "cell_type": "code",
   "execution_count": 82,
   "id": "103f6cb9",
   "metadata": {},
   "outputs": [],
   "source": [
    "price.remove(2)"
   ]
  },
  {
   "cell_type": "code",
   "execution_count": 83,
   "id": "63ab2e6e",
   "metadata": {},
   "outputs": [
    {
     "data": {
      "text/plain": [
       "{3, 23, 45}"
      ]
     },
     "execution_count": 83,
     "metadata": {},
     "output_type": "execute_result"
    }
   ],
   "source": [
    "price"
   ]
  },
  {
   "cell_type": "markdown",
   "id": "fea4f179",
   "metadata": {},
   "source": [
    "1. Order is not preserved\n",
    "2. Retreival can not be done using index\n",
    "### 3. Duplication is not allowed\n",
    "4. Deletion is allowed\n",
    "5. Insertion is based on Hashing\n",
    "6. The order of data is based on Hashing technique\n",
    "\n"
   ]
  },
  {
   "cell_type": "code",
   "execution_count": null,
   "id": "8eafc033",
   "metadata": {},
   "outputs": [],
   "source": [
    "15,4,5,6,7\n",
    "\n",
    "\n",
    "\n",
    "5 buckets\n",
    "\n",
    "\n",
    "\n",
    "\n",
    "4\n",
    "3\n",
    "2 - 7\n",
    "1 - 4,6\n",
    "0 - 15,5\n",
    "\n",
    "\n"
   ]
  },
  {
   "cell_type": "code",
   "execution_count": 86,
   "id": "ce94ee3e",
   "metadata": {},
   "outputs": [],
   "source": [
    "test = frozenset({23,45,23,1,2,2,3})"
   ]
  },
  {
   "cell_type": "markdown",
   "id": "dac9d281",
   "metadata": {},
   "source": [
    "## Dictionary"
   ]
  },
  {
   "cell_type": "code",
   "execution_count": 112,
   "id": "2c7d3717",
   "metadata": {},
   "outputs": [],
   "source": [
    "# Creating a dictionary\n",
    "item_price = {'Apple': 200, 'Orange': 100, 'Grapes': 50, 'Milk': 50, 'Apple': 220}\n"
   ]
  },
  {
   "cell_type": "code",
   "execution_count": 113,
   "id": "dc3828e4",
   "metadata": {},
   "outputs": [],
   "source": [
    "#Set is a Dictionary without a value"
   ]
  },
  {
   "cell_type": "code",
   "execution_count": 114,
   "id": "ea5da800",
   "metadata": {},
   "outputs": [
    {
     "data": {
      "text/plain": [
       "{'Apple': 220, 'Orange': 100, 'Grapes': 50, 'Milk': 50}"
      ]
     },
     "execution_count": 114,
     "metadata": {},
     "output_type": "execute_result"
    }
   ],
   "source": [
    "item_price"
   ]
  },
  {
   "cell_type": "code",
   "execution_count": 206,
   "id": "4eb5e001",
   "metadata": {},
   "outputs": [
    {
     "data": {
      "text/plain": [
       "50"
      ]
     },
     "execution_count": 206,
     "metadata": {},
     "output_type": "execute_result"
    }
   ],
   "source": [
    "# Accessing values in a dictionary using keys\n",
    "item_price['Orange']\n",
    "item_price['Milk']"
   ]
  },
  {
   "cell_type": "code",
   "execution_count": 103,
   "id": "e5b85908",
   "metadata": {},
   "outputs": [
    {
     "data": {
      "text/plain": [
       "30"
      ]
     },
     "execution_count": 103,
     "metadata": {},
     "output_type": "execute_result"
    }
   ],
   "source": [
    "item_price['Milk']"
   ]
  },
  {
   "cell_type": "code",
   "execution_count": 207,
   "id": "d2673280",
   "metadata": {},
   "outputs": [
    {
     "name": "stdout",
     "output_type": "stream",
     "text": [
      "dict_keys(['Apple', 'Orange', 'Grapes', 'Milk'])\n",
      "dict_values([220, 100, 50, 50])\n",
      "dict_items([('Apple', 220), ('Orange', 100), ('Grapes', 50), ('Milk', 50)])\n"
     ]
    }
   ],
   "source": [
    "# Getting all the keys, values, and items in a dictionary\n",
    "print(item_price.keys())\n",
    "print(item_price.values())\n",
    "print(item_price.items())"
   ]
  },
  {
   "cell_type": "code",
   "execution_count": 104,
   "id": "7cfde2e8",
   "metadata": {},
   "outputs": [
    {
     "data": {
      "text/plain": [
       "dict_keys(['Apple', 'Orange', 'Grapes', 'Milk'])"
      ]
     },
     "execution_count": 104,
     "metadata": {},
     "output_type": "execute_result"
    }
   ],
   "source": [
    "item_price.keys()"
   ]
  },
  {
   "cell_type": "code",
   "execution_count": 105,
   "id": "fd1b6bd4",
   "metadata": {},
   "outputs": [
    {
     "data": {
      "text/plain": [
       "dict_values([220, 100, 50, 30])"
      ]
     },
     "execution_count": 105,
     "metadata": {},
     "output_type": "execute_result"
    }
   ],
   "source": [
    "item_price.values()"
   ]
  },
  {
   "cell_type": "code",
   "execution_count": 106,
   "id": "912e33c7",
   "metadata": {},
   "outputs": [
    {
     "data": {
      "text/plain": [
       "dict_items([('Apple', 220), ('Orange', 100), ('Grapes', 50), ('Milk', 30)])"
      ]
     },
     "execution_count": 106,
     "metadata": {},
     "output_type": "execute_result"
    }
   ],
   "source": [
    "item_price.items()"
   ]
  },
  {
   "cell_type": "code",
   "execution_count": 107,
   "id": "8d7d6d2f",
   "metadata": {},
   "outputs": [],
   "source": [
    "# Adding a new key-value pair to the dictionary\n",
    "item_price['Curd'] = 23\n"
   ]
  },
  {
   "cell_type": "code",
   "execution_count": 108,
   "id": "2a982fb1",
   "metadata": {},
   "outputs": [
    {
     "data": {
      "text/plain": [
       "{'Apple': 220, 'Orange': 100, 'Grapes': 50, 'Milk': 30, 'Curd': 23}"
      ]
     },
     "execution_count": 108,
     "metadata": {},
     "output_type": "execute_result"
    }
   ],
   "source": [
    "item_price"
   ]
  },
  {
   "cell_type": "code",
   "execution_count": 109,
   "id": "ab114d24",
   "metadata": {},
   "outputs": [],
   "source": [
    "# Deleting a key-value pair from the dictionary\n",
    "del item_price['Curd']"
   ]
  },
  {
   "cell_type": "code",
   "execution_count": 110,
   "id": "1c2312bd",
   "metadata": {},
   "outputs": [
    {
     "data": {
      "text/plain": [
       "{'Apple': 220, 'Orange': 100, 'Grapes': 50, 'Milk': 30}"
      ]
     },
     "execution_count": 110,
     "metadata": {},
     "output_type": "execute_result"
    }
   ],
   "source": [
    "item_price"
   ]
  },
  {
   "cell_type": "code",
   "execution_count": 111,
   "id": "b55ed79c",
   "metadata": {},
   "outputs": [
    {
     "data": {
      "text/plain": [
       "4"
      ]
     },
     "execution_count": 111,
     "metadata": {},
     "output_type": "execute_result"
    }
   ],
   "source": [
    "len(item_price)"
   ]
  },
  {
   "cell_type": "code",
   "execution_count": null,
   "id": "e8c27b5a",
   "metadata": {},
   "outputs": [],
   "source": []
  },
  {
   "cell_type": "markdown",
   "id": "6be09295",
   "metadata": {},
   "source": [
    "### List Comprehension"
   ]
  },
  {
   "cell_type": "code",
   "execution_count": 125,
   "id": "31be5328",
   "metadata": {},
   "outputs": [],
   "source": [
    "list_test = [1,4,3,5,6,7,2,3]\n",
    "#list out the sum of odd numbers from this list"
   ]
  },
  {
   "cell_type": "code",
   "execution_count": 128,
   "id": "7f93c404",
   "metadata": {},
   "outputs": [
    {
     "name": "stdout",
     "output_type": "stream",
     "text": [
      "19\n"
     ]
    }
   ],
   "source": [
    "sum = 0\n",
    "for i in list_test:\n",
    "    if i%2 != 0:\n",
    "        sum = sum + i\n",
    "print(sum)\n",
    "        "
   ]
  },
  {
   "cell_type": "code",
   "execution_count": 131,
   "id": "09c99c47",
   "metadata": {},
   "outputs": [
    {
     "data": {
      "text/plain": [
       "[1, 3, 5, 7, 3]"
      ]
     },
     "execution_count": 131,
     "metadata": {},
     "output_type": "execute_result"
    }
   ],
   "source": [
    "[i for i in list_test if i%2!=0]"
   ]
  },
  {
   "cell_type": "code",
   "execution_count": 134,
   "id": "29b05af2",
   "metadata": {},
   "outputs": [
    {
     "data": {
      "text/plain": [
       "(1, 3, 5, 7, 3)"
      ]
     },
     "execution_count": 134,
     "metadata": {},
     "output_type": "execute_result"
    }
   ],
   "source": [
    "tuple(i for i in list_test if i%2!=0)"
   ]
  },
  {
   "cell_type": "code",
   "execution_count": 132,
   "id": "5ea01950",
   "metadata": {},
   "outputs": [
    {
     "data": {
      "text/plain": [
       "{1, 3, 5, 7}"
      ]
     },
     "execution_count": 132,
     "metadata": {},
     "output_type": "execute_result"
    }
   ],
   "source": [
    "{i for i in list_test if i%2!=0}"
   ]
  },
  {
   "cell_type": "code",
   "execution_count": 135,
   "id": "22608073",
   "metadata": {},
   "outputs": [
    {
     "data": {
      "text/plain": [
       "[1, 9, 25, 49, 9]"
      ]
     },
     "execution_count": 135,
     "metadata": {},
     "output_type": "execute_result"
    }
   ],
   "source": [
    "[i*i for i in list_test if i%2!=0]"
   ]
  },
  {
   "cell_type": "code",
   "execution_count": 136,
   "id": "30c7d1cb",
   "metadata": {},
   "outputs": [],
   "source": [
    "lst_def = []\n",
    "for i in range(1,10):\n",
    "    lst_def.append(i*i)"
   ]
  },
  {
   "cell_type": "code",
   "execution_count": 137,
   "id": "3b5a4b6f",
   "metadata": {},
   "outputs": [
    {
     "data": {
      "text/plain": [
       "[1, 4, 9, 16, 25, 36, 49, 64, 81]"
      ]
     },
     "execution_count": 137,
     "metadata": {},
     "output_type": "execute_result"
    }
   ],
   "source": [
    "lst_def"
   ]
  },
  {
   "cell_type": "code",
   "execution_count": 138,
   "id": "f074d271",
   "metadata": {},
   "outputs": [
    {
     "data": {
      "text/plain": [
       "[1, 4, 9, 16, 25, 36, 49, 64, 81]"
      ]
     },
     "execution_count": 138,
     "metadata": {},
     "output_type": "execute_result"
    }
   ],
   "source": [
    "[i*i for i in range(1,10)]"
   ]
  },
  {
   "cell_type": "code",
   "execution_count": 142,
   "id": "ff856f9e",
   "metadata": {},
   "outputs": [
    {
     "data": {
      "text/plain": [
       "[(1, 1),\n",
       " (1, 3),\n",
       " (1, 5),\n",
       " (1, 7),\n",
       " (1, 9),\n",
       " (3, 1),\n",
       " (3, 3),\n",
       " (3, 5),\n",
       " (3, 7),\n",
       " (3, 9),\n",
       " (5, 1),\n",
       " (5, 3),\n",
       " (5, 5),\n",
       " (5, 7),\n",
       " (5, 9),\n",
       " (7, 1),\n",
       " (7, 3),\n",
       " (7, 5),\n",
       " (7, 7),\n",
       " (7, 9),\n",
       " (9, 1),\n",
       " (9, 3),\n",
       " (9, 5),\n",
       " (9, 7),\n",
       " (9, 9)]"
      ]
     },
     "execution_count": 142,
     "metadata": {},
     "output_type": "execute_result"
    }
   ],
   "source": [
    "[(i,j) for i in range(1,10) for j in range(1,10) if i%2!=0 if j%2!=0]"
   ]
  },
  {
   "cell_type": "markdown",
   "id": "ff1e1548",
   "metadata": {},
   "source": [
    "### Map, Filter, Reduce"
   ]
  },
  {
   "cell_type": "code",
   "execution_count": 143,
   "id": "9cd17e8a",
   "metadata": {},
   "outputs": [],
   "source": [
    "#map(what you need to do , what is the data u want to perform opration)"
   ]
  },
  {
   "cell_type": "code",
   "execution_count": 147,
   "id": "2301b12d",
   "metadata": {},
   "outputs": [],
   "source": [
    "def square(x):\n",
    "    return x**2"
   ]
  },
  {
   "cell_type": "code",
   "execution_count": 151,
   "id": "cf9171b0",
   "metadata": {},
   "outputs": [],
   "source": [
    "def add(a,b):\n",
    "    return a+b"
   ]
  },
  {
   "cell_type": "code",
   "execution_count": 152,
   "id": "2c14f298",
   "metadata": {},
   "outputs": [
    {
     "data": {
      "text/plain": [
       "5"
      ]
     },
     "execution_count": 152,
     "metadata": {},
     "output_type": "execute_result"
    }
   ],
   "source": [
    "add(3,2)"
   ]
  },
  {
   "cell_type": "code",
   "execution_count": 148,
   "id": "117cff4e",
   "metadata": {},
   "outputs": [
    {
     "data": {
      "text/plain": [
       "[1, 4, 9]"
      ]
     },
     "execution_count": 148,
     "metadata": {},
     "output_type": "execute_result"
    }
   ],
   "source": [
    "#Functional Programming\n",
    "list(map(square,[1,2,3]))"
   ]
  },
  {
   "cell_type": "code",
   "execution_count": 150,
   "id": "036731c9",
   "metadata": {},
   "outputs": [
    {
     "data": {
      "text/plain": [
       "[1, 9, 25, 49]"
      ]
     },
     "execution_count": 150,
     "metadata": {},
     "output_type": "execute_result"
    }
   ],
   "source": [
    "inp = [1,3,5,7]\n",
    "list(map(lambda x : x**2, inp))"
   ]
  },
  {
   "cell_type": "code",
   "execution_count": null,
   "id": "c3e48ffa",
   "metadata": {},
   "outputs": [],
   "source": []
  },
  {
   "cell_type": "code",
   "execution_count": null,
   "id": "1e12eb30",
   "metadata": {},
   "outputs": [],
   "source": [
    "#Filter(what you need to do -> Condition , what is the data u want to perform opration)\n",
    "#return only those data where condition is true"
   ]
  },
  {
   "cell_type": "code",
   "execution_count": 153,
   "id": "535b8293",
   "metadata": {},
   "outputs": [],
   "source": [
    "inp = [1,2,3,4,5,6,7,8,9]"
   ]
  },
  {
   "cell_type": "code",
   "execution_count": 154,
   "id": "5ba1df22",
   "metadata": {},
   "outputs": [],
   "source": [
    "def odd(x):\n",
    "    if x%2!=0:\n",
    "        return x"
   ]
  },
  {
   "cell_type": "code",
   "execution_count": 156,
   "id": "442854ec",
   "metadata": {},
   "outputs": [
    {
     "data": {
      "text/plain": [
       "[1, 3, 5, 7, 9]"
      ]
     },
     "execution_count": 156,
     "metadata": {},
     "output_type": "execute_result"
    }
   ],
   "source": [
    "list(filter(odd , inp))"
   ]
  },
  {
   "cell_type": "code",
   "execution_count": 166,
   "id": "0b6863fc",
   "metadata": {
    "scrolled": true
   },
   "outputs": [
    {
     "name": "stdout",
     "output_type": "stream",
     "text": [
      "1\n",
      "2\n",
      "3\n",
      "4\n",
      "5\n",
      "6\n",
      "7\n",
      "8\n",
      "9\n"
     ]
    }
   ],
   "source": [
    "for i in range(1,10):\n",
    "    if i**2:\n",
    "        print(i)"
   ]
  },
  {
   "cell_type": "code",
   "execution_count": 168,
   "id": "ea6777f7",
   "metadata": {},
   "outputs": [
    {
     "data": {
      "text/plain": [
       "[1, 3, 5, 7, 9]"
      ]
     },
     "execution_count": 168,
     "metadata": {},
     "output_type": "execute_result"
    }
   ],
   "source": [
    "list(filter(lambda x: x%2!=0 , inp))"
   ]
  },
  {
   "cell_type": "code",
   "execution_count": 167,
   "id": "f35fca69",
   "metadata": {},
   "outputs": [
    {
     "data": {
      "text/plain": [
       "[1, 2, 3, 4, 5, 6, 7, 8, 9]"
      ]
     },
     "execution_count": 167,
     "metadata": {},
     "output_type": "execute_result"
    }
   ],
   "source": [
    "list(filter(lambda x: i**2 , inp))"
   ]
  },
  {
   "cell_type": "code",
   "execution_count": 162,
   "id": "d16947a0",
   "metadata": {},
   "outputs": [
    {
     "data": {
      "text/plain": [
       "[1, 9, 25, 49, 81]"
      ]
     },
     "execution_count": 162,
     "metadata": {},
     "output_type": "execute_result"
    }
   ],
   "source": [
    "list(map(lambda x : x**2,list(filter(lambda x: x%2!=0 , inp))))"
   ]
  },
  {
   "cell_type": "code",
   "execution_count": 187,
   "id": "11e30c51",
   "metadata": {},
   "outputs": [
    {
     "data": {
      "text/plain": [
       "[1, 9, 25, 49, 81]"
      ]
     },
     "execution_count": 187,
     "metadata": {},
     "output_type": "execute_result"
    }
   ],
   "source": [
    "list(map(lambda x : x**2,list(filter(lambda x: x%2!=0 , inp))))"
   ]
  },
  {
   "cell_type": "code",
   "execution_count": null,
   "id": "ac0f96a3",
   "metadata": {},
   "outputs": [],
   "source": []
  },
  {
   "cell_type": "code",
   "execution_count": null,
   "id": "e7817e93",
   "metadata": {},
   "outputs": [],
   "source": []
  },
  {
   "cell_type": "code",
   "execution_count": null,
   "id": "fc72027d",
   "metadata": {},
   "outputs": [],
   "source": [
    "#reduce"
   ]
  },
  {
   "cell_type": "code",
   "execution_count": 169,
   "id": "19c101c6",
   "metadata": {},
   "outputs": [],
   "source": [
    "from functools import reduce"
   ]
  },
  {
   "cell_type": "code",
   "execution_count": 170,
   "id": "c0fb4c49",
   "metadata": {},
   "outputs": [],
   "source": [
    "def sum(a,b):\n",
    "    return a+b"
   ]
  },
  {
   "cell_type": "code",
   "execution_count": 172,
   "id": "9c2429d3",
   "metadata": {},
   "outputs": [
    {
     "data": {
      "text/plain": [
       "4950"
      ]
     },
     "execution_count": 172,
     "metadata": {},
     "output_type": "execute_result"
    }
   ],
   "source": [
    "reduce(sum , range(1,100))"
   ]
  },
  {
   "cell_type": "code",
   "execution_count": 173,
   "id": "ef4d9fea",
   "metadata": {},
   "outputs": [
    {
     "data": {
      "text/plain": [
       "4950"
      ]
     },
     "execution_count": 173,
     "metadata": {},
     "output_type": "execute_result"
    }
   ],
   "source": [
    "reduce(lambda x,y: x+y , range(1,100))"
   ]
  },
  {
   "cell_type": "code",
   "execution_count": 175,
   "id": "edaf2fdc",
   "metadata": {},
   "outputs": [
    {
     "data": {
      "text/plain": [
       "24"
      ]
     },
     "execution_count": 175,
     "metadata": {},
     "output_type": "execute_result"
    }
   ],
   "source": [
    "reduce(lambda x,y: x*y , range(1,5))"
   ]
  },
  {
   "cell_type": "code",
   "execution_count": 179,
   "id": "36b4af28",
   "metadata": {},
   "outputs": [
    {
     "data": {
      "text/plain": [
       "{1, 3, 5, 7}"
      ]
     },
     "execution_count": 179,
     "metadata": {},
     "output_type": "execute_result"
    }
   ],
   "source": [
    "list_test = [1,4,3,5,6,7,2,3]\n",
    "\n",
    "{i for i in list_test if i%2!=0}\n"
   ]
  },
  {
   "cell_type": "code",
   "execution_count": 185,
   "id": "556d767c",
   "metadata": {},
   "outputs": [
    {
     "data": {
      "text/plain": [
       "0.009523809523809523"
      ]
     },
     "execution_count": 185,
     "metadata": {},
     "output_type": "execute_result"
    }
   ],
   "source": [
    "reduce( lambda x,y: x+y   , set(filter(lambda x: x%2!=0, list_test)))"
   ]
  },
  {
   "cell_type": "code",
   "execution_count": null,
   "id": "c9abcb6d",
   "metadata": {},
   "outputs": [],
   "source": [
    "reduce(lambda x,y: x+y, {i for i in list_test if i%2!=0})"
   ]
  },
  {
   "cell_type": "code",
   "execution_count": null,
   "id": "4731b4dc",
   "metadata": {},
   "outputs": [],
   "source": [
    "[1,2,3,4,5,6]\n",
    "\n",
    "1+2 = 3\n",
    "3+3 = 6\n",
    "6+4 = 10"
   ]
  },
  {
   "cell_type": "code",
   "execution_count": null,
   "id": "6c791cbf",
   "metadata": {},
   "outputs": [],
   "source": []
  },
  {
   "cell_type": "code",
   "execution_count": null,
   "id": "8f72d70a",
   "metadata": {},
   "outputs": [],
   "source": []
  },
  {
   "cell_type": "code",
   "execution_count": 189,
   "id": "de6bb23d",
   "metadata": {},
   "outputs": [],
   "source": [
    "test = []"
   ]
  },
  {
   "cell_type": "code",
   "execution_count": 190,
   "id": "04f2dc91",
   "metadata": {},
   "outputs": [],
   "source": [
    "test.append(2)"
   ]
  },
  {
   "cell_type": "code",
   "execution_count": 192,
   "id": "949f583b",
   "metadata": {},
   "outputs": [
    {
     "data": {
      "text/plain": [
       "2"
      ]
     },
     "execution_count": 192,
     "metadata": {},
     "output_type": "execute_result"
    }
   ],
   "source": [
    "test[0]"
   ]
  },
  {
   "cell_type": "code",
   "execution_count": 193,
   "id": "dec8e07a",
   "metadata": {},
   "outputs": [],
   "source": [
    "test.append(4)"
   ]
  },
  {
   "cell_type": "code",
   "execution_count": 194,
   "id": "93983505",
   "metadata": {},
   "outputs": [
    {
     "data": {
      "text/plain": [
       "[2, 4]"
      ]
     },
     "execution_count": 194,
     "metadata": {},
     "output_type": "execute_result"
    }
   ],
   "source": [
    "test"
   ]
  },
  {
   "cell_type": "code",
   "execution_count": 195,
   "id": "38158e17",
   "metadata": {},
   "outputs": [
    {
     "data": {
      "text/plain": [
       "4"
      ]
     },
     "execution_count": 195,
     "metadata": {},
     "output_type": "execute_result"
    }
   ],
   "source": [
    "test[1]"
   ]
  },
  {
   "cell_type": "code",
   "execution_count": 201,
   "id": "335638aa",
   "metadata": {},
   "outputs": [],
   "source": [
    "tes = {1}"
   ]
  },
  {
   "cell_type": "code",
   "execution_count": 202,
   "id": "8c55a0ad",
   "metadata": {},
   "outputs": [],
   "source": [
    "tes.add(2)"
   ]
  },
  {
   "cell_type": "code",
   "execution_count": 203,
   "id": "4a5ac992",
   "metadata": {},
   "outputs": [
    {
     "data": {
      "text/plain": [
       "{1, 2}"
      ]
     },
     "execution_count": 203,
     "metadata": {},
     "output_type": "execute_result"
    }
   ],
   "source": [
    "tes"
   ]
  },
  {
   "cell_type": "code",
   "execution_count": 205,
   "id": "995ff584",
   "metadata": {},
   "outputs": [
    {
     "ename": "TypeError",
     "evalue": "'set' object is not subscriptable",
     "output_type": "error",
     "traceback": [
      "\u001b[0;31m---------------------------------------------------------------------------\u001b[0m",
      "\u001b[0;31mTypeError\u001b[0m                                 Traceback (most recent call last)",
      "\u001b[0;32m/var/folders/cv/kmsppstx0d9281mtbqrrgl6c0000gn/T/ipykernel_27328/3282053347.py\u001b[0m in \u001b[0;36m<module>\u001b[0;34m\u001b[0m\n\u001b[0;32m----> 1\u001b[0;31m \u001b[0mtes\u001b[0m\u001b[0;34m[\u001b[0m\u001b[0;36m1\u001b[0m\u001b[0;34m]\u001b[0m\u001b[0;34m\u001b[0m\u001b[0;34m\u001b[0m\u001b[0m\n\u001b[0m",
      "\u001b[0;31mTypeError\u001b[0m: 'set' object is not subscriptable"
     ]
    }
   ],
   "source": [
    "tes[1]"
   ]
  },
  {
   "cell_type": "code",
   "execution_count": null,
   "id": "b6a6a09f",
   "metadata": {},
   "outputs": [],
   "source": [
    "#Interview Questions:\n",
    "\n",
    "# Q: What is the difference between a list and a tuple?\n",
    "# A: The main differences between a list and a tuple are:\n",
    "#    - Lists are mutable (can be modified), while tuples are immutable (cannot be modified).\n",
    "#    - Lists use square brackets [], while tuples use parentheses ().\n",
    "#    - Lists have various built-in methods for modification, while tuples have fewer methods and are mainly used for read-only data.\n",
    "\n",
    "# Q: What are the characteristics of a set in Python?\n",
    "# A: The characteristics of a set in Python are:\n",
    "#    - Sets are unordered collections of unique elements.\n",
    "#    - Sets do not allow duplicate values.\n",
    "#    - Sets are mutable and can be modified using various built-in methods.\n",
    "#    - Sets are commonly used to perform mathematical set operations such as union, intersection, and difference.\n",
    "\n",
    "# Q: What is the purpose of the try-except block in Python?\n",
    "# A: The try-except block is used for exception handling in Python. It allows you to catch and handle exceptions (errors) that occur during the execution of your program. The try block contains the code that may raise an exception, and the except block specifies the actions to be taken if an exception occurs.\n",
    "\n",
    "# Q: Explain the concept of lambda functions in Python.\n",
    "# A: Lambda functions, also known as anonymous functions, are small, single-line functions without a name. They are defined using the lambda keyword and can take any number of arguments but can only have a single expression. Lambda functions are commonly used in conjunction with higher-order functions like map, filter, and reduce for concise and efficient coding.\n",
    "\n",
    "# Q: What is the purpose of map, filter, and reduce functions in Python?\n",
    "# A: The purpose of these functions is as follows:\n",
    "#    - Map: It applies a given function to each element of an iterable and returns a new iterable with the results.\n",
    "#    - Filter: It applies a given function to each element of an iterable and returns a new iterable with the elements for which the function returns True.\n",
    "#    - Reduce: It applies a given function to the elements of an iterable in a cumulative way, reducing them to a single value.\n",
    "\n",
    "\n",
    "# Q: What are the different data types used in the Python file?\n",
    "# A: The Python file demonstrates the use of various data types, including lists, tuples, strings, sets, and dictionaries.\n",
    "\n",
    "# Q: What is the difference between a list and a tuple in Python?\n",
    "# A: A list is a mutable data type, meaning its elements can be modified after creation. On the other hand, a tuple is immutable, and its elements cannot be changed once defined. Lists are denoted by square brackets [], while tuples are denoted by parentheses ().\n",
    "\n",
    "# Q: How do you access elements in a list in Python?\n",
    "# A: Elements in a list can be accessed using indexing. Indexing starts from 0, so the first element can be accessed with index 0, the second element with index 1, and so on. For example, shopping[1] returns the second element in the list.\n",
    "\n",
    "# Q: How do you add an element to a list in Python?\n",
    "# A: You can add an element to a list using the append() method. For example, shopping.append('Rice') adds the string 'Rice' to the end of the list.\n",
    "\n",
    "# Q: How do you remove an element from a list in Python?\n",
    "# A: There are multiple ways to remove an element from a list. The remove() method removes the first occurrence of a specified element, while the del statement can be used to remove an element at a specific index. For example, shopping.remove('Orange') removes the string 'Orange' from the list.\n",
    "\n",
    "# Q: What is the purpose of the sort() method in Python lists?\n",
    "# A: The sort() method is used to sort the elements in a list in ascending order. By default, it sorts the list in-place, meaning it modifies the original list. Adding the parameter reverse=True to the sort() method sorts the list in descending order.\n",
    "\n",
    "# Q: How do you define and access elements in a dictionary in Python?\n",
    "# A: A dictionary consists of key-value pairs. Elements in a dictionary can be defined using curly braces {} and accessed using their respective keys. For example, item_price['Orange'] returns the value associated with the key 'Orange' in the dictionary.\n",
    "\n",
    "# Q: What is the purpose of the lambda function in Python?\n",
    "# A: The lambda function is a way to create anonymous functions in Python. It allows you to define small, one-line functions without explicitly using the def keyword. lambda functions are commonly used in combination with other functions like map(), filter(), and reduce().\n",
    "\n",
    "# Q: What is the difference between map(), filter(), and reduce() in Python?\n",
    "# A: map(), filter(), and reduce() are higher-order functions in Python. map() applies a given function to each item in an iterable and returns an iterator of the results. filter() creates a new iterator that contains only the elements from the original iterable that satisfy a specified condition. reduce() applies a function to the elements of an iterable in a cumulative way, reducing them to a single value."
   ]
  },
  {
   "cell_type": "code",
   "execution_count": null,
   "id": "9dee5a94",
   "metadata": {},
   "outputs": [],
   "source": [
    "Hashing"
   ]
  },
  {
   "cell_type": "code",
   "execution_count": null,
   "id": "2c5adaca",
   "metadata": {},
   "outputs": [],
   "source": []
  },
  {
   "cell_type": "code",
   "execution_count": null,
   "id": "b36d0208",
   "metadata": {},
   "outputs": [],
   "source": [
    "1. Class and Object\n",
    "2. Iterator\n",
    "3. Generator\n",
    "4. Try Except"
   ]
  }
 ],
 "metadata": {
  "kernelspec": {
   "display_name": "Python 3 (ipykernel)",
   "language": "python",
   "name": "python3"
  },
  "language_info": {
   "codemirror_mode": {
    "name": "ipython",
    "version": 3
   },
   "file_extension": ".py",
   "mimetype": "text/x-python",
   "name": "python",
   "nbconvert_exporter": "python",
   "pygments_lexer": "ipython3",
   "version": "3.9.13"
  }
 },
 "nbformat": 4,
 "nbformat_minor": 5
}
